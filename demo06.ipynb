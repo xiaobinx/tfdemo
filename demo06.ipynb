{
 "cells": [
  {
   "cell_type": "code",
   "execution_count": 1,
   "id": "31f4aa84-ed43-407c-bc58-2bf424d12450",
   "metadata": {},
   "outputs": [],
   "source": [
    "import os\n",
    "\n",
    "import tensorflow as tf\n",
    "from tensorflow import keras\n",
    "from tensorflow.keras import datasets, layers, optimizers\n",
    "\n",
    "os.environ[\"TF_CPP_MIN_LOG_LEVEL\"] = \"2\""
   ]
  },
  {
   "cell_type": "markdown",
   "id": "0debcd12-61e3-4cec-9ba8-5e9f23f726e2",
   "metadata": {},
   "source": [
    "## 8.1 tf.concat 合并"
   ]
  },
  {
   "cell_type": "code",
   "execution_count": 4,
   "id": "7dbb79ca-07b0-4785-bcbe-ec3a4d054039",
   "metadata": {},
   "outputs": [],
   "source": [
    "a = tf.ones([4, 35, 8])\n",
    "b = tf.ones([2, 35, 8])"
   ]
  },
  {
   "cell_type": "code",
   "execution_count": 6,
   "id": "f7468176-a3ac-4242-843d-f47c235a3114",
   "metadata": {},
   "outputs": [
    {
     "data": {
      "text/plain": [
       "TensorShape([6, 35, 8])"
      ]
     },
     "execution_count": 6,
     "metadata": {},
     "output_type": "execute_result"
    }
   ],
   "source": [
    "tf.concat([a, b], axis=0).shape # 合并"
   ]
  },
  {
   "cell_type": "code",
   "execution_count": 8,
   "id": "2cd0d4c1-5d3f-4415-b65f-a7d7cc91b331",
   "metadata": {},
   "outputs": [
    {
     "data": {
      "text/plain": [
       "TensorShape([4, 35, 8])"
      ]
     },
     "execution_count": 8,
     "metadata": {},
     "output_type": "execute_result"
    }
   ],
   "source": [
    "a = tf.ones([4, 33, 8])\n",
    "b = tf.ones([4, 2, 8])\n",
    "tf.concat([a, b], axis=1).shape # 其他维度上的合并"
   ]
  },
  {
   "cell_type": "markdown",
   "id": "0e950891-165e-4b0c-a34f-171884007d01",
   "metadata": {},
   "source": [
    "## 8.2 tf.stack 合并"
   ]
  },
  {
   "cell_type": "code",
   "execution_count": 9,
   "id": "d4288bb0-d759-42be-88cb-a4ed4f6d88f8",
   "metadata": {},
   "outputs": [],
   "source": [
    "a = tf.ones([4, 35, 8])\n",
    "b = tf.ones([4, 35, 8])"
   ]
  },
  {
   "cell_type": "code",
   "execution_count": 10,
   "id": "6d17f7e7-9b85-400a-9494-63d89b0d615a",
   "metadata": {},
   "outputs": [
    {
     "data": {
      "text/plain": [
       "TensorShape([2, 4, 35, 8])"
      ]
     },
     "execution_count": 10,
     "metadata": {},
     "output_type": "execute_result"
    }
   ],
   "source": [
    "tf.stack([a, b], axis=0).shape"
   ]
  },
  {
   "cell_type": "code",
   "execution_count": 11,
   "id": "2ef47c71-9cc1-4664-aeee-529bdaec6424",
   "metadata": {},
   "outputs": [
    {
     "data": {
      "text/plain": [
       "TensorShape([4, 35, 8, 2])"
      ]
     },
     "execution_count": 11,
     "metadata": {},
     "output_type": "execute_result"
    }
   ],
   "source": [
    "tf.stack([a, b], axis=3).shape"
   ]
  },
  {
   "cell_type": "code",
   "execution_count": 12,
   "id": "799e6b4c-4867-4788-a9a8-1f082f1662ed",
   "metadata": {},
   "outputs": [
    {
     "data": {
      "text/plain": [
       "TensorShape([4, 35, 2, 8])"
      ]
     },
     "execution_count": 12,
     "metadata": {},
     "output_type": "execute_result"
    }
   ],
   "source": [
    "tf.stack([a, b], axis=2).shape"
   ]
  },
  {
   "cell_type": "markdown",
   "id": "d06d66ea-76e0-4d47-aea4-9e2a4069c989",
   "metadata": {},
   "source": [
    "## 8.3 tf.unstack"
   ]
  },
  {
   "cell_type": "code",
   "execution_count": 15,
   "id": "361bee94-bd49-4438-8659-695ad0f41a54",
   "metadata": {},
   "outputs": [],
   "source": [
    "a = tf.ones([2, 4, 35, 8])"
   ]
  },
  {
   "cell_type": "code",
   "execution_count": 34,
   "id": "f43b39c0-b37f-4404-89c0-6dff37831a1c",
   "metadata": {},
   "outputs": [
    {
     "data": {
      "text/plain": [
       "(2, TensorShape([4, 35, 8]), TensorShape([4, 35, 8]))"
      ]
     },
     "execution_count": 34,
     "metadata": {},
     "output_type": "execute_result"
    }
   ],
   "source": [
    "li = tf.unstack(a, axis=0)\n",
    "len(li), li[0].shape, li[1].shape"
   ]
  },
  {
   "cell_type": "code",
   "execution_count": 31,
   "id": "38d5c41f-db32-4a35-a959-4dfba68b18fc",
   "metadata": {},
   "outputs": [
    {
     "data": {
      "text/plain": [
       "(8, TensorShape([2, 4, 35]))"
      ]
     },
     "execution_count": 31,
     "metadata": {},
     "output_type": "execute_result"
    }
   ],
   "source": [
    "li = tf.unstack(a, axis=3)\n",
    "len(li), li[0].shape"
   ]
  },
  {
   "cell_type": "markdown",
   "id": "80b9c6e0-c94e-452b-84fc-fb3bf20d522f",
   "metadata": {},
   "source": [
    "## 8.4 tf.split"
   ]
  },
  {
   "cell_type": "code",
   "execution_count": 36,
   "id": "8d86ecfe-38b8-43c2-999e-591c5c469d85",
   "metadata": {},
   "outputs": [],
   "source": [
    "a = tf.ones([2, 4, 35, 8])"
   ]
  },
  {
   "cell_type": "code",
   "execution_count": 40,
   "id": "e3a43050-abbf-448c-a30b-c9a8625f19ff",
   "metadata": {},
   "outputs": [
    {
     "data": {
      "text/plain": [
       "(7, TensorShape([2, 4, 5, 8]))"
      ]
     },
     "execution_count": 40,
     "metadata": {},
     "output_type": "execute_result"
    }
   ],
   "source": [
    "li = tf.split(a, axis=2, num_or_size_splits=7)\n",
    "len(li), li[0].shape"
   ]
  },
  {
   "cell_type": "code",
   "execution_count": 46,
   "id": "43864481-8cc8-4b49-bcf1-1e2187cb0f14",
   "metadata": {},
   "outputs": [
    {
     "data": {
      "text/plain": [
       "(3,\n",
       " TensorShape([2, 4, 35, 4]),\n",
       " TensorShape([2, 4, 35, 2]),\n",
       " TensorShape([2, 4, 35, 2]))"
      ]
     },
     "execution_count": 46,
     "metadata": {},
     "output_type": "execute_result"
    }
   ],
   "source": [
    "li = tf.split(a, axis=3, num_or_size_splits=[4, 2, 2])\n",
    "len(li), li[0].shape, li[1].shape, li[2].shape"
   ]
  },
  {
   "cell_type": "code",
   "execution_count": null,
   "id": "c0407fbb-2638-412e-98ad-41a3adc18fa9",
   "metadata": {},
   "outputs": [],
   "source": []
  }
 ],
 "metadata": {
  "kernelspec": {
   "display_name": "Python 3 (ipykernel)",
   "language": "python",
   "name": "python3"
  },
  "language_info": {
   "codemirror_mode": {
    "name": "ipython",
    "version": 3
   },
   "file_extension": ".py",
   "mimetype": "text/x-python",
   "name": "python",
   "nbconvert_exporter": "python",
   "pygments_lexer": "ipython3",
   "version": "3.9.9"
  }
 },
 "nbformat": 4,
 "nbformat_minor": 5
}
