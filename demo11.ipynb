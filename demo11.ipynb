{
 "cells": [
  {
   "cell_type": "code",
   "execution_count": 1,
   "id": "33dcbd1c-9807-43f3-b353-0cf6be6dc855",
   "metadata": {},
   "outputs": [],
   "source": [
    "import os\n",
    "\n",
    "import tensorflow as tf\n",
    "from tensorflow import keras\n",
    "from tensorflow.keras import datasets, layers, optimizers\n",
    "\n",
    "os.environ[\"TF_CPP_MIN_LOG_LEVEL\"] = \"2\""
   ]
  },
  {
   "cell_type": "markdown",
   "id": "00a914f3-4fd0-4bc4-b4d9-638a6fe30563",
   "metadata": {},
   "source": [
    "## 13.1 WHERE"
   ]
  },
  {
   "cell_type": "code",
   "execution_count": 4,
   "id": "d0ebc117-b6e3-49ac-8635-f223acc77043",
   "metadata": {},
   "outputs": [
    {
     "data": {
      "text/plain": [
       "<tf.Tensor: shape=(3, 3), dtype=float32, numpy=\n",
       "array([[-0.21633968, -1.0504389 ,  1.12904   ],\n",
       "       [-1.8362275 , -1.0495322 , -2.850246  ],\n",
       "       [-0.13719033,  0.5125932 , -0.44809896]], dtype=float32)>"
      ]
     },
     "execution_count": 4,
     "metadata": {},
     "output_type": "execute_result"
    }
   ],
   "source": [
    "a = tf.random.normal([3, 3])"
   ]
  },
  {
   "cell_type": "code",
   "execution_count": 5,
   "id": "fcb0f75c-eab4-42cf-a231-01a11d631a84",
   "metadata": {},
   "outputs": [
    {
     "data": {
      "text/plain": [
       "<tf.Tensor: shape=(3, 3), dtype=bool, numpy=\n",
       "array([[False, False,  True],\n",
       "       [False, False, False],\n",
       "       [False,  True, False]])>"
      ]
     },
     "execution_count": 5,
     "metadata": {},
     "output_type": "execute_result"
    }
   ],
   "source": [
    "mask = a > 0"
   ]
  },
  {
   "cell_type": "code",
   "execution_count": 7,
   "id": "88be9d1f-f282-49b7-a3cf-ad3d80f276bb",
   "metadata": {},
   "outputs": [
    {
     "data": {
      "text/plain": [
       "<tf.Tensor: shape=(2,), dtype=float32, numpy=array([1.12904  , 0.5125932], dtype=float32)>"
      ]
     },
     "execution_count": 7,
     "metadata": {},
     "output_type": "execute_result"
    }
   ],
   "source": [
    "tf.boolean_mask(a, mask) # 取得对应元素为True的值"
   ]
  },
  {
   "cell_type": "code",
   "execution_count": 12,
   "id": "27b917df-54fb-4efe-a3a5-042e33a299d5",
   "metadata": {},
   "outputs": [
    {
     "data": {
      "text/plain": [
       "<tf.Tensor: shape=(2, 2), dtype=int64, numpy=\n",
       "array([[0, 2],\n",
       "       [2, 1]], dtype=int64)>"
      ]
     },
     "execution_count": 12,
     "metadata": {},
     "output_type": "execute_result"
    }
   ],
   "source": [
    "indices = tf.where(mask) # 取得对应元素为True的值的坐标\n",
    "indices"
   ]
  },
  {
   "cell_type": "code",
   "execution_count": 10,
   "id": "e06eca15-f555-4569-a20d-b7edd392e73e",
   "metadata": {},
   "outputs": [
    {
     "data": {
      "text/plain": [
       "<tf.Tensor: shape=(2,), dtype=float32, numpy=array([1.12904  , 0.5125932], dtype=float32)>"
      ]
     },
     "execution_count": 10,
     "metadata": {},
     "output_type": "execute_result"
    }
   ],
   "source": [
    "tf.gather_nd(a, indices) # 取得对应元素为True的值"
   ]
  },
  {
   "cell_type": "code",
   "execution_count": 13,
   "id": "786be86a-499e-40c8-8b06-7412aa449e25",
   "metadata": {},
   "outputs": [
    {
     "data": {
      "text/plain": [
       "<tf.Tensor: shape=(3, 3), dtype=bool, numpy=\n",
       "array([[False, False,  True],\n",
       "       [False, False, False],\n",
       "       [False,  True, False]])>"
      ]
     },
     "execution_count": 13,
     "metadata": {},
     "output_type": "execute_result"
    }
   ],
   "source": [
    "mask"
   ]
  },
  {
   "cell_type": "code",
   "execution_count": 16,
   "id": "90f61a93-a08e-4740-b2fa-55457befa92e",
   "metadata": {},
   "outputs": [],
   "source": [
    "A = tf.zeros([3, 3])\n",
    "B = tf.ones([3, 3])"
   ]
  },
  {
   "cell_type": "code",
   "execution_count": 17,
   "id": "4a70ebb3-839b-42cd-90a7-194b7f9034e7",
   "metadata": {},
   "outputs": [
    {
     "data": {
      "text/plain": [
       "<tf.Tensor: shape=(3, 3), dtype=float32, numpy=\n",
       "array([[1., 1., 0.],\n",
       "       [1., 1., 1.],\n",
       "       [1., 0., 1.]], dtype=float32)>"
      ]
     },
     "execution_count": 17,
     "metadata": {},
     "output_type": "execute_result"
    }
   ],
   "source": [
    "tf.where(mask, A, B)"
   ]
  },
  {
   "cell_type": "markdown",
   "id": "b8fcdcfb-ad31-4fc8-9ca8-0cb16289099e",
   "metadata": {},
   "source": [
    "## 13.2 scatter_nd"
   ]
  },
  {
   "cell_type": "code",
   "execution_count": 19,
   "id": "711c70f6-8b77-48e5-b7e0-09bfde39decb",
   "metadata": {},
   "outputs": [],
   "source": [
    "indices = tf.constant([[4], [3], [1], [7]])\n",
    "updates = tf.constant([9, 10, 11, 12])\n",
    "shape = tf.constant([8])"
   ]
  },
  {
   "cell_type": "code",
   "execution_count": 20,
   "id": "2548bc1d-6a35-4f84-82f3-ad524e9f076d",
   "metadata": {},
   "outputs": [
    {
     "data": {
      "text/plain": [
       "<tf.Tensor: shape=(8,), dtype=int32, numpy=array([ 0, 11,  0, 10,  9,  0,  0, 12])>"
      ]
     },
     "execution_count": 20,
     "metadata": {},
     "output_type": "execute_result"
    }
   ],
   "source": [
    "tf.scatter_nd(indices, updates, shape)"
   ]
  },
  {
   "cell_type": "markdown",
   "id": "15939404-8107-4263-82a2-e0fdfd8944ee",
   "metadata": {},
   "source": [
    "## 13.3 meshgrid"
   ]
  },
  {
   "cell_type": "code",
   "execution_count": 24,
   "id": "9021587e-1e5b-4683-80d3-9291e80ca6cd",
   "metadata": {},
   "outputs": [
    {
     "data": {
      "text/plain": [
       "<tf.Tensor: shape=(5,), dtype=float32, numpy=array([-2., -1.,  0.,  1.,  2.], dtype=float32)>"
      ]
     },
     "execution_count": 24,
     "metadata": {},
     "output_type": "execute_result"
    }
   ],
   "source": [
    "y = tf.linspace(-2., 2, 5)\n",
    "y"
   ]
  },
  {
   "cell_type": "code",
   "execution_count": 26,
   "id": "4a9b35a3-0aee-4eec-a678-f646179d1e1d",
   "metadata": {},
   "outputs": [
    {
     "data": {
      "text/plain": [
       "<tf.Tensor: shape=(5,), dtype=float32, numpy=array([-2., -1.,  0.,  1.,  2.], dtype=float32)>"
      ]
     },
     "execution_count": 26,
     "metadata": {},
     "output_type": "execute_result"
    }
   ],
   "source": [
    "x = tf.linspace(-2., 2, 5)\n",
    "x"
   ]
  },
  {
   "cell_type": "code",
   "execution_count": 27,
   "id": "82386d3c-e03a-4346-a51c-367a938c9190",
   "metadata": {},
   "outputs": [
    {
     "data": {
      "text/plain": [
       "(<tf.Tensor: shape=(5, 5), dtype=float32, numpy=\n",
       " array([[-2., -1.,  0.,  1.,  2.],\n",
       "        [-2., -1.,  0.,  1.,  2.],\n",
       "        [-2., -1.,  0.,  1.,  2.],\n",
       "        [-2., -1.,  0.,  1.,  2.],\n",
       "        [-2., -1.,  0.,  1.,  2.]], dtype=float32)>,\n",
       " <tf.Tensor: shape=(5, 5), dtype=float32, numpy=\n",
       " array([[-2., -2., -2., -2., -2.],\n",
       "        [-1., -1., -1., -1., -1.],\n",
       "        [ 0.,  0.,  0.,  0.,  0.],\n",
       "        [ 1.,  1.,  1.,  1.,  1.],\n",
       "        [ 2.,  2.,  2.,  2.,  2.]], dtype=float32)>)"
      ]
     },
     "execution_count": 27,
     "metadata": {},
     "output_type": "execute_result"
    }
   ],
   "source": [
    "px, py = tf.meshgrid(x, y)\n",
    "px, py"
   ]
  },
  {
   "cell_type": "code",
   "execution_count": 30,
   "id": "99f14b82-f615-4386-80ab-dee86c7b1072",
   "metadata": {},
   "outputs": [
    {
     "data": {
      "text/plain": [
       "<tf.Tensor: shape=(5, 5, 2), dtype=float32, numpy=\n",
       "array([[[-2., -2.],\n",
       "        [-1., -2.],\n",
       "        [ 0., -2.],\n",
       "        [ 1., -2.],\n",
       "        [ 2., -2.]],\n",
       "\n",
       "       [[-2., -1.],\n",
       "        [-1., -1.],\n",
       "        [ 0., -1.],\n",
       "        [ 1., -1.],\n",
       "        [ 2., -1.]],\n",
       "\n",
       "       [[-2.,  0.],\n",
       "        [-1.,  0.],\n",
       "        [ 0.,  0.],\n",
       "        [ 1.,  0.],\n",
       "        [ 2.,  0.]],\n",
       "\n",
       "       [[-2.,  1.],\n",
       "        [-1.,  1.],\n",
       "        [ 0.,  1.],\n",
       "        [ 1.,  1.],\n",
       "        [ 2.,  1.]],\n",
       "\n",
       "       [[-2.,  2.],\n",
       "        [-1.,  2.],\n",
       "        [ 0.,  2.],\n",
       "        [ 1.,  2.],\n",
       "        [ 2.,  2.]]], dtype=float32)>"
      ]
     },
     "execution_count": 30,
     "metadata": {},
     "output_type": "execute_result"
    }
   ],
   "source": [
    "tf.stack([px, py], axis=2)"
   ]
  },
  {
   "cell_type": "code",
   "execution_count": null,
   "id": "6d6b11e7-59c2-4615-8d96-a77339eee14e",
   "metadata": {},
   "outputs": [],
   "source": []
  }
 ],
 "metadata": {
  "kernelspec": {
   "display_name": "Python 3 (ipykernel)",
   "language": "python",
   "name": "python3"
  },
  "language_info": {
   "codemirror_mode": {
    "name": "ipython",
    "version": 3
   },
   "file_extension": ".py",
   "mimetype": "text/x-python",
   "name": "python",
   "nbconvert_exporter": "python",
   "pygments_lexer": "ipython3",
   "version": "3.9.9"
  }
 },
 "nbformat": 4,
 "nbformat_minor": 5
}
