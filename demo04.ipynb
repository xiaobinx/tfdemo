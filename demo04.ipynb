{
 "cells": [
  {
   "cell_type": "code",
   "execution_count": 1,
   "id": "741b5250-49df-4843-86fd-55fed87c2b3c",
   "metadata": {},
   "outputs": [],
   "source": [
    "import os\n",
    "\n",
    "import tensorflow as tf\n",
    "from tensorflow import keras\n",
    "from tensorflow.keras import datasets, layers, optimizers\n",
    "\n",
    "os.environ[\"TF_CPP_MIN_LOG_LEVEL\"] = \"2\""
   ]
  },
  {
   "cell_type": "code",
   "execution_count": 2,
   "id": "6555b063-cf94-479e-95db-8217729663c1",
   "metadata": {},
   "outputs": [],
   "source": [
    "a = tf.fill([2, 3], 2.0)"
   ]
  },
  {
   "cell_type": "code",
   "execution_count": 3,
   "id": "572956ac-e1be-4f57-9a74-ef3bd7d63f6e",
   "metadata": {},
   "outputs": [
    {
     "data": {
      "text/plain": [
       "<tf.Tensor: shape=(2, 3), dtype=float32, numpy=\n",
       "array([[0.6931472, 0.6931472, 0.6931472],\n",
       "       [0.6931472, 0.6931472, 0.6931472]], dtype=float32)>"
      ]
     },
     "execution_count": 3,
     "metadata": {},
     "output_type": "execute_result"
    }
   ],
   "source": [
    "tf.math.log(a)"
   ]
  },
  {
   "cell_type": "code",
   "execution_count": 4,
   "id": "ff5eaed4-f1d5-4b67-9c62-0b092bcfad62",
   "metadata": {},
   "outputs": [
    {
     "data": {
      "text/plain": [
       "<tf.Tensor: shape=(2, 3), dtype=float32, numpy=\n",
       "array([[7.389056, 7.389056, 7.389056],\n",
       "       [7.389056, 7.389056, 7.389056]], dtype=float32)>"
      ]
     },
     "execution_count": 4,
     "metadata": {},
     "output_type": "execute_result"
    }
   ],
   "source": [
    "tf.exp(a)"
   ]
  },
  {
   "cell_type": "code",
   "execution_count": 8,
   "id": "76ed4a55-3060-4677-9bb4-07e4ba1d059a",
   "metadata": {},
   "outputs": [
    {
     "data": {
      "text/plain": [
       "<tf.Tensor: shape=(), dtype=float32, numpy=2.0>"
      ]
     },
     "execution_count": 8,
     "metadata": {},
     "output_type": "execute_result"
    }
   ],
   "source": [
    "tf.math.log(100.0) / tf.math.log(10.0)"
   ]
  },
  {
   "cell_type": "code",
   "execution_count": 9,
   "id": "24955b4c-13b7-4fd7-bfeb-6e2af6433fbd",
   "metadata": {},
   "outputs": [],
   "source": [
    "a = tf.fill([2, 3], 2.0)"
   ]
  },
  {
   "cell_type": "code",
   "execution_count": 16,
   "id": "a2c6ba96-2fa2-45a2-82a1-01a973a15a82",
   "metadata": {},
   "outputs": [
    {
     "data": {
      "text/plain": [
       "(<tf.Tensor: shape=(2, 3), dtype=float32, numpy=\n",
       " array([[4., 4., 4.],\n",
       "        [4., 4., 4.]], dtype=float32)>,\n",
       " <tf.Tensor: shape=(2, 3), dtype=float32, numpy=\n",
       " array([[8., 8., 8.],\n",
       "        [8., 8., 8.]], dtype=float32)>,\n",
       " <tf.Tensor: shape=(2, 3), dtype=float32, numpy=\n",
       " array([[1.4142137, 1.4142137, 1.4142137],\n",
       "        [1.4142137, 1.4142137, 1.4142137]], dtype=float32)>)"
      ]
     },
     "execution_count": 16,
     "metadata": {},
     "output_type": "execute_result"
    }
   ],
   "source": [
    "a ** 2, tf.pow(a, 3), tf.sqrt(a)"
   ]
  },
  {
   "cell_type": "code",
   "execution_count": 20,
   "id": "da5c3747-208d-40a2-bdbc-3d519f842864",
   "metadata": {},
   "outputs": [
    {
     "data": {
      "text/plain": [
       "(<tf.Tensor: shape=(2, 3), dtype=float32, numpy=\n",
       " array([[2., 2., 2.],\n",
       "        [2., 2., 2.]], dtype=float32)>,\n",
       " <tf.Tensor: shape=(3, 3), dtype=float32, numpy=\n",
       " array([[3., 3., 3.],\n",
       "        [3., 3., 3.],\n",
       "        [3., 3., 3.]], dtype=float32)>,\n",
       " <tf.Tensor: shape=(2, 3), dtype=float32, numpy=\n",
       " array([[18., 18., 18.],\n",
       "        [18., 18., 18.]], dtype=float32)>)"
      ]
     },
     "execution_count": 20,
     "metadata": {},
     "output_type": "execute_result"
    }
   ],
   "source": [
    "a = tf.fill([2, 3], 2.0)\n",
    "b = tf.fill([3, 3], 3.0)\n",
    "a, b, a @ b"
   ]
  },
  {
   "cell_type": "markdown",
   "id": "a3e37e58-3460-43b4-91a3-d397efcda8fb",
   "metadata": {},
   "source": [
    "---\n",
    "X@W+B"
   ]
  },
  {
   "cell_type": "code",
   "execution_count": 96,
   "id": "8be38b28-6d44-4db4-bedb-7c417baebdb1",
   "metadata": {},
   "outputs": [
    {
     "data": {
      "text/plain": [
       "<tf.Tensor: shape=(10, 1), dtype=float32, numpy=\n",
       "array([[ 4.3082886],\n",
       "       [ 8.169115 ],\n",
       "       [14.341063 ],\n",
       "       [17.67097  ],\n",
       "       [23.040207 ],\n",
       "       [25.52861  ],\n",
       "       [32.497944 ],\n",
       "       [33.98273  ],\n",
       "       [41.130486 ],\n",
       "       [47.78525  ]], dtype=float32)>"
      ]
     },
     "execution_count": 96,
     "metadata": {},
     "output_type": "execute_result"
    }
   ],
   "source": [
    "X = tf.cast(tf.reshape(tf.range(50), [10, 5]), tf.float32)\n",
    "W = tf.random.normal([5, 1])\n",
    "B = tf.random.normal([10, 1])\n",
    "tf.nn.relu(X@W+B)"
   ]
  },
  {
   "cell_type": "code",
   "execution_count": null,
   "id": "e30fb94c-0a1e-47f9-8158-6a27c877e86f",
   "metadata": {},
   "outputs": [],
   "source": []
  }
 ],
 "metadata": {
  "kernelspec": {
   "display_name": "Python 3 (ipykernel)",
   "language": "python",
   "name": "python3"
  },
  "language_info": {
   "codemirror_mode": {
    "name": "ipython",
    "version": 3
   },
   "file_extension": ".py",
   "mimetype": "text/x-python",
   "name": "python",
   "nbconvert_exporter": "python",
   "pygments_lexer": "ipython3",
   "version": "3.9.9"
  }
 },
 "nbformat": 4,
 "nbformat_minor": 5
}
