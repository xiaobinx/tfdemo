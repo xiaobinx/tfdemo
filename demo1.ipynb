{
 "cells": [
  {
   "cell_type": "code",
   "execution_count": 1,
   "id": "3d292edd-80f4-4dc5-8b6c-8949a4aa29fc",
   "metadata": {},
   "outputs": [],
   "source": [
    "import os\n",
    "\n",
    "import tensorflow as tf\n",
    "from tensorflow import keras\n",
    "from tensorflow.keras import datasets, layers, optimizers\n",
    "\n",
    "os.environ[\"TF_CPP_MIN_LOG_LEVEL\"] = \"2\""
   ]
  },
  {
   "cell_type": "code",
   "execution_count": 2,
   "id": "714502c7-04b5-478c-954f-baa877d8cb31",
   "metadata": {},
   "outputs": [
    {
     "data": {
      "text/plain": [
       "'Variable:0'"
      ]
     },
     "execution_count": 2,
     "metadata": {},
     "output_type": "execute_result"
    }
   ],
   "source": [
    "a = tf.range(5)\n",
    "b = tf.Variable(a)  # 可求导\n",
    "b.name  #  isinstance(b, tf.Variable)"
   ]
  },
  {
   "cell_type": "code",
   "execution_count": 3,
   "id": "16ebdb19-4189-47f0-98f2-b5b0ee752fb6",
   "metadata": {},
   "outputs": [
    {
     "data": {
      "text/plain": [
       "True"
      ]
     },
     "execution_count": 3,
     "metadata": {},
     "output_type": "execute_result"
    }
   ],
   "source": [
    "b.trainable  #  True\n",
    "isinstance(b, tf.Tensor)  #  False\n",
    "isinstance(b, tf.Variable)  #  True"
   ]
  },
  {
   "cell_type": "code",
   "execution_count": 4,
   "id": "b1553fa0-2cee-4b7f-94af-5eca7749976d",
   "metadata": {},
   "outputs": [
    {
     "data": {
      "text/plain": [
       "True"
      ]
     },
     "execution_count": 4,
     "metadata": {},
     "output_type": "execute_result"
    }
   ],
   "source": [
    "tf.is_tensor(b)  #"
   ]
  },
  {
   "cell_type": "code",
   "execution_count": 5,
   "id": "5cdd884d-700e-4175-b024-771d1cd7c43d",
   "metadata": {},
   "outputs": [
    {
     "data": {
      "text/plain": [
       "array([0, 1, 2, 3, 4])"
      ]
     },
     "execution_count": 5,
     "metadata": {},
     "output_type": "execute_result"
    }
   ],
   "source": [
    "b.numpy()"
   ]
  },
  {
   "cell_type": "code",
   "execution_count": 6,
   "id": "0c4df151-c22c-45b6-86e2-b4f45100cafd",
   "metadata": {},
   "outputs": [
    {
     "data": {
      "text/plain": [
       "1.0"
      ]
     },
     "execution_count": 6,
     "metadata": {},
     "output_type": "execute_result"
    }
   ],
   "source": [
    "a = tf.ones([])\n",
    "a.numpy()"
   ]
  },
  {
   "cell_type": "code",
   "execution_count": 7,
   "id": "5afa6298-56af-427f-a968-d125425226da",
   "metadata": {},
   "outputs": [
    {
     "data": {
      "text/plain": [
       "1"
      ]
     },
     "execution_count": 7,
     "metadata": {},
     "output_type": "execute_result"
    }
   ],
   "source": [
    "int(a)"
   ]
  },
  {
   "cell_type": "code",
   "execution_count": 8,
   "id": "c5c3e2a8-50d4-4ec7-b01c-70cafbfc4947",
   "metadata": {},
   "outputs": [
    {
     "data": {
      "text/plain": [
       "<tf.Tensor: shape=(2,), dtype=float32, numpy=array([2., 3.], dtype=float32)>"
      ]
     },
     "execution_count": 8,
     "metadata": {},
     "output_type": "execute_result"
    }
   ],
   "source": [
    "tf.convert_to_tensor([2.0, 3.0])"
   ]
  },
  {
   "cell_type": "code",
   "execution_count": 9,
   "id": "bd24e1f4-8e9d-4fd7-8819-bd56c2069590",
   "metadata": {},
   "outputs": [
    {
     "data": {
      "text/plain": [
       "<tf.Tensor: shape=(2, 2), dtype=float32, numpy=\n",
       "array([[2., 3.],\n",
       "       [3., 3.]], dtype=float32)>"
      ]
     },
     "execution_count": 9,
     "metadata": {},
     "output_type": "execute_result"
    }
   ],
   "source": [
    "tf.convert_to_tensor(\n",
    "    [\n",
    "        [2.0, 3.0],\n",
    "        [3.0, 3.0],\n",
    "    ]\n",
    ")"
   ]
  },
  {
   "cell_type": "code",
   "execution_count": 10,
   "id": "034e68df-db61-4df0-9bdd-735ad1df14d4",
   "metadata": {},
   "outputs": [
    {
     "data": {
      "text/plain": [
       "<tf.Tensor: shape=(), dtype=float32, numpy=0.0>"
      ]
     },
     "execution_count": 10,
     "metadata": {},
     "output_type": "execute_result"
    }
   ],
   "source": [
    "tf.zeros([])"
   ]
  },
  {
   "cell_type": "code",
   "execution_count": 11,
   "id": "6eff45dc-82b9-41ee-9df5-53d6c6c2ca09",
   "metadata": {},
   "outputs": [
    {
     "data": {
      "text/plain": [
       "<tf.Tensor: shape=(2,), dtype=float32, numpy=array([0., 0.], dtype=float32)>"
      ]
     },
     "execution_count": 11,
     "metadata": {},
     "output_type": "execute_result"
    }
   ],
   "source": [
    "tf.zeros([2])"
   ]
  },
  {
   "cell_type": "code",
   "execution_count": 12,
   "id": "737e5c00-e9c6-4281-a550-1016baef4747",
   "metadata": {},
   "outputs": [
    {
     "data": {
      "text/plain": [
       "<tf.Tensor: shape=(2, 2), dtype=float32, numpy=\n",
       "array([[0., 0.],\n",
       "       [0., 0.]], dtype=float32)>"
      ]
     },
     "execution_count": 12,
     "metadata": {},
     "output_type": "execute_result"
    }
   ],
   "source": [
    "tf.zeros([2, 2])"
   ]
  },
  {
   "cell_type": "code",
   "execution_count": 13,
   "id": "d656a80d-7521-45ec-a011-49fc64b4bc16",
   "metadata": {},
   "outputs": [
    {
     "data": {
      "text/plain": [
       "<tf.Tensor: shape=(3, 2, 2), dtype=float32, numpy=\n",
       "array([[[0., 0.],\n",
       "        [0., 0.]],\n",
       "\n",
       "       [[0., 0.],\n",
       "        [0., 0.]],\n",
       "\n",
       "       [[0., 0.],\n",
       "        [0., 0.]]], dtype=float32)>"
      ]
     },
     "execution_count": 13,
     "metadata": {},
     "output_type": "execute_result"
    }
   ],
   "source": [
    "tf.zeros([3, 2, 2])"
   ]
  },
  {
   "cell_type": "code",
   "execution_count": 14,
   "id": "66034e81-96cc-414c-9e93-4f420098dcb8",
   "metadata": {},
   "outputs": [
    {
     "data": {
      "text/plain": [
       "<tf.Tensor: shape=(2, 3, 1), dtype=float32, numpy=\n",
       "array([[[0.],\n",
       "        [0.],\n",
       "        [0.]],\n",
       "\n",
       "       [[0.],\n",
       "        [0.],\n",
       "        [0.]]], dtype=float32)>"
      ]
     },
     "execution_count": 14,
     "metadata": {},
     "output_type": "execute_result"
    }
   ],
   "source": [
    "a = tf.zeros([2, 3, 1])\n",
    "tf.zeros_like(a)"
   ]
  },
  {
   "cell_type": "code",
   "execution_count": 15,
   "id": "98b50a0a-b09f-466e-8199-a3bd2049e633",
   "metadata": {},
   "outputs": [
    {
     "data": {
      "text/plain": [
       "<tf.Tensor: shape=(2, 2), dtype=float32, numpy=\n",
       "array([[0., 0.],\n",
       "       [0., 0.]], dtype=float32)>"
      ]
     },
     "execution_count": 15,
     "metadata": {},
     "output_type": "execute_result"
    }
   ],
   "source": [
    "tf.fill([2, 2], 0.0)"
   ]
  },
  {
   "cell_type": "code",
   "execution_count": 16,
   "id": "0c656130-e5cf-4a83-b7be-ba521bcfbfc5",
   "metadata": {},
   "outputs": [
    {
     "data": {
      "text/plain": [
       "<tf.Tensor: shape=(3, 4), dtype=float32, numpy=\n",
       "array([[1., 1., 1., 1.],\n",
       "       [1., 1., 1., 1.],\n",
       "       [1., 1., 1., 1.]], dtype=float32)>"
      ]
     },
     "execution_count": 16,
     "metadata": {},
     "output_type": "execute_result"
    }
   ],
   "source": [
    "tf.fill([3, 4], 1.0)"
   ]
  },
  {
   "cell_type": "code",
   "execution_count": 17,
   "id": "b625b29b-3446-4c32-a723-a02e4881c7e5",
   "metadata": {},
   "outputs": [
    {
     "data": {
      "text/plain": [
       "<tf.Tensor: shape=(9, 9), dtype=float32, numpy=\n",
       "array([[-0.3339622 ,  0.75590384,  0.18224335,  0.9677394 ,  2.6427197 ,\n",
       "         0.6850953 ,  1.136036  ,  0.95062476,  1.9559512 ],\n",
       "       [ 0.7986677 ,  2.1920934 ,  0.6582104 ,  2.6885676 ,  0.37657475,\n",
       "        -0.02818227,  0.2481075 ,  0.2772358 , -0.64013064],\n",
       "       [ 0.36134815, -0.18149173,  0.75193965,  0.5247792 , -0.08223367,\n",
       "         0.8000775 ,  0.09232879,  0.44062203,  1.3852981 ],\n",
       "       [ 1.7023351 ,  2.1588268 , -0.14277518,  0.802749  ,  0.5679035 ,\n",
       "         0.10957009,  1.863265  ,  1.1120352 ,  2.353189  ],\n",
       "       [ 2.6375194 ,  0.9030762 , -1.0221014 ,  1.5979246 ,  4.236225  ,\n",
       "        -0.34426427, -0.6666628 ,  0.45898914, -0.03286362],\n",
       "       [ 2.625897  ,  0.41844553,  1.168549  ,  0.36456126,  1.092748  ,\n",
       "         0.11698294, -0.06254768, -1.1034572 ,  1.2255988 ],\n",
       "       [ 3.0852718 ,  1.2086874 ,  0.6275665 ,  0.8544001 ,  1.6359099 ,\n",
       "         1.1594927 , -1.8929546 ,  1.1529806 ,  1.6010151 ],\n",
       "       [ 1.6209943 ,  0.4142431 ,  2.6934361 ,  0.87671536, -0.20473814,\n",
       "         0.40742916, -0.32211423,  2.5332925 ,  0.90783226],\n",
       "       [-0.04226935,  0.86931825,  1.489141  ,  0.54375875,  0.65179396,\n",
       "        -0.1953584 ,  2.19788   , -0.03384602, -0.10474598]],\n",
       "      dtype=float32)>"
      ]
     },
     "execution_count": 17,
     "metadata": {},
     "output_type": "execute_result"
    }
   ],
   "source": [
    "tf.random.normal([9, 9], mean=1, stddev=1)"
   ]
  },
  {
   "cell_type": "code",
   "execution_count": 18,
   "id": "e31c0ce6-a81c-4f6f-96eb-d578735c2b59",
   "metadata": {},
   "outputs": [
    {
     "data": {
      "text/plain": [
       "<tf.Tensor: shape=(9, 9), dtype=float32, numpy=\n",
       "array([[-0.03926754,  1.0289121 ,  1.5943975 ,  1.6976842 , -0.96167886,\n",
       "         0.4125557 ,  0.59629047,  1.6278063 , -0.00297105],\n",
       "       [ 1.290344  ,  1.956249  ,  0.38032287, -0.10670018,  0.12816429,\n",
       "         0.04369414,  0.54304254,  1.0143846 ,  2.6927586 ],\n",
       "       [ 1.2320317 ,  1.4115856 ,  0.6769426 , -0.26847708,  0.26883918,\n",
       "         2.8755457 ,  0.7309648 ,  1.9426801 , -0.0154928 ],\n",
       "       [ 0.35756314,  2.1670508 ,  1.331814  ,  0.55952656, -0.61168814,\n",
       "         1.0617042 , -0.19327271,  0.46537971,  2.09517   ],\n",
       "       [ 2.5413156 ,  1.5136058 ,  2.0986314 ,  0.16810954,  0.68922246,\n",
       "         0.16909027,  2.3874884 ,  1.8591075 ,  0.09613776],\n",
       "       [ 1.7609817 ,  0.75311613,  1.8823229 ,  2.4635744 ,  0.6133821 ,\n",
       "         1.73644   ,  0.47279674,  1.4115747 ,  0.44349176],\n",
       "       [ 2.5777926 ,  2.4773598 ,  1.5585812 ,  1.5340633 ,  0.88619685,\n",
       "         0.40715498,  1.2927969 ,  1.8869174 ,  1.9335877 ],\n",
       "       [ 0.66236913,  2.3541965 ,  0.49504077,  0.6754166 , -0.3493681 ,\n",
       "         1.655021  , -0.1801666 ,  0.8973402 ,  0.04047978],\n",
       "       [ 0.373173  ,  0.7851723 , -0.38311088,  0.17749351,  1.5407896 ,\n",
       "         1.6384921 ,  1.0948535 , -0.09921217,  1.4364455 ]],\n",
       "      dtype=float32)>"
      ]
     },
     "execution_count": 18,
     "metadata": {},
     "output_type": "execute_result"
    }
   ],
   "source": [
    "tf.random.truncated_normal([9, 9], mean=1, stddev=1)"
   ]
  },
  {
   "cell_type": "code",
   "execution_count": 19,
   "id": "dd15ac68-cd8d-4891-b086-15408e80db14",
   "metadata": {},
   "outputs": [
    {
     "data": {
      "text/plain": [
       "<tf.Tensor: shape=(2, 2), dtype=float32, numpy=\n",
       "array([[0.4470302 , 0.99127614],\n",
       "       [0.61278176, 0.7366992 ]], dtype=float32)>"
      ]
     },
     "execution_count": 19,
     "metadata": {},
     "output_type": "execute_result"
    }
   ],
   "source": [
    "tf.random.uniform([2, 2], minval=0, maxval=1)"
   ]
  },
  {
   "cell_type": "code",
   "execution_count": 20,
   "id": "274c5f48-aa93-427f-ac4f-8c4e2cb6fcbd",
   "metadata": {},
   "outputs": [
    {
     "data": {
      "text/plain": [
       "<tf.Tensor: shape=(10,), dtype=int32, numpy=array([8, 2, 9, 3, 0, 4, 7, 5, 6, 1])>"
      ]
     },
     "execution_count": 20,
     "metadata": {},
     "output_type": "execute_result"
    }
   ],
   "source": [
    "a = tf.range(10)\n",
    "tf.random.shuffle(a)"
   ]
  },
  {
   "cell_type": "code",
   "execution_count": 21,
   "id": "05a986d4-bef9-4082-ae2e-e6a1ea09ae19",
   "metadata": {},
   "outputs": [
    {
     "data": {
      "text/plain": [
       "(<tf.Tensor: shape=(10,), dtype=int32, numpy=array([7, 6, 3, 0, 4, 1, 8, 2, 5, 9])>,\n",
       " <tf.Tensor: shape=(10,), dtype=int32, numpy=array([7, 6, 3, 0, 4, 1, 8, 2, 5, 9])>)"
      ]
     },
     "execution_count": 21,
     "metadata": {},
     "output_type": "execute_result"
    }
   ],
   "source": [
    "x = tf.range(10)\n",
    "y = tf.range(10)\n",
    "idx = tf.range(x.shape[0])\n",
    "idx = tf.random.shuffle(idx)\n",
    "x = tf.gather(x, idx)\n",
    "y = tf.gather(y, idx)\n",
    "x, y"
   ]
  },
  {
   "cell_type": "code",
   "execution_count": 22,
   "id": "8f56ea03-29a2-44d8-9994-3ce6e1af93db",
   "metadata": {},
   "outputs": [
    {
     "data": {
      "text/plain": [
       "10"
      ]
     },
     "execution_count": 22,
     "metadata": {},
     "output_type": "execute_result"
    }
   ],
   "source": [
    "x.shape[0]"
   ]
  },
  {
   "cell_type": "code",
   "execution_count": 23,
   "id": "71b0031e-1918-4036-a899-914e603c29b9",
   "metadata": {},
   "outputs": [
    {
     "data": {
      "text/plain": [
       "<tf.Tensor: shape=(), dtype=int32, numpy=1>"
      ]
     },
     "execution_count": 23,
     "metadata": {},
     "output_type": "execute_result"
    }
   ],
   "source": [
    "tf.constant(1)"
   ]
  },
  {
   "cell_type": "code",
   "execution_count": 24,
   "id": "eae35218-361a-4629-9a99-bf64fe202334",
   "metadata": {},
   "outputs": [
    {
     "data": {
      "text/plain": [
       "<tf.Tensor: shape=(1,), dtype=int32, numpy=array([1])>"
      ]
     },
     "execution_count": 24,
     "metadata": {},
     "output_type": "execute_result"
    }
   ],
   "source": [
    "tf.constant([1])"
   ]
  },
  {
   "cell_type": "code",
   "execution_count": 25,
   "id": "582a550f-ef8a-42f3-becd-90ce462cbfeb",
   "metadata": {},
   "outputs": [
    {
     "data": {
      "text/plain": [
       "<tf.Tensor: shape=(2,), dtype=int32, numpy=array([23, 32])>"
      ]
     },
     "execution_count": 25,
     "metadata": {},
     "output_type": "execute_result"
    }
   ],
   "source": [
    "tf.constant([23, 32])"
   ]
  },
  {
   "cell_type": "code",
   "execution_count": 26,
   "id": "168e356a-712a-4cca-be96-fc76a0fb7a16",
   "metadata": {},
   "outputs": [
    {
     "data": {
      "text/plain": [
       "<tf.Tensor: shape=(2, 2), dtype=float32, numpy=\n",
       "array([[2., 3.],\n",
       "       [3., 3.]], dtype=float32)>"
      ]
     },
     "execution_count": 26,
     "metadata": {},
     "output_type": "execute_result"
    }
   ],
   "source": [
    "tf.constant(\n",
    "    [\n",
    "        [2.0, 3.0],\n",
    "        [3.0, 3.0],\n",
    "    ]\n",
    ")"
   ]
  },
  {
   "cell_type": "code",
   "execution_count": 27,
   "id": "94d573b1-1f23-4b70-bf2c-4ded0af2f5ed",
   "metadata": {},
   "outputs": [
    {
     "data": {
      "text/plain": [
       "<tf.Tensor: shape=(3, 3), dtype=float32, numpy=\n",
       "array([[0.8589629 , 0.74680305, 0.24932384],\n",
       "       [0.7433075 , 0.17519057, 0.5762267 ],\n",
       "       [0.20296109, 0.28385186, 0.4257202 ]], dtype=float32)>"
      ]
     },
     "execution_count": 27,
     "metadata": {},
     "output_type": "execute_result"
    }
   ],
   "source": [
    "a = tf.random.uniform([3, 3])\n",
    "a"
   ]
  },
  {
   "cell_type": "code",
   "execution_count": 28,
   "id": "2b3647d2-0219-4829-8984-84c9cb0b68e9",
   "metadata": {},
   "outputs": [
    {
     "data": {
      "text/plain": [
       "<tf.Tensor: shape=(10,), dtype=int32, numpy=array([0, 1, 2, 3, 4, 5, 6, 7, 8, 9])>"
      ]
     },
     "execution_count": 28,
     "metadata": {},
     "output_type": "execute_result"
    }
   ],
   "source": [
    "a = tf.range(10)\n",
    "a = tf.reshape(a, (10,))\n",
    "# a = tf.one_hot(a, depth=10)\n",
    "a"
   ]
  },
  {
   "cell_type": "code",
   "execution_count": 29,
   "id": "0478a8f7-bdb0-4624-9409-2ffec7b6538f",
   "metadata": {},
   "outputs": [
    {
     "data": {
      "text/plain": [
       "(<tf.Tensor: shape=(2, 2), dtype=int32, numpy=\n",
       " array([[0, 1],\n",
       "        [2, 3]])>,\n",
       " <tf.Tensor: shape=(2,), dtype=int32, numpy=array([0, 1])>,\n",
       " <tf.Tensor: shape=(2, 1), dtype=int32, numpy=\n",
       " array([[0],\n",
       "        [1]])>,\n",
       " <tf.Tensor: shape=(2, 1), dtype=int32, numpy=\n",
       " array([[1],\n",
       "        [3]])>)"
      ]
     },
     "execution_count": 29,
     "metadata": {},
     "output_type": "execute_result"
    }
   ],
   "source": [
    "a = tf.range(4)\n",
    "a = tf.reshape(a, (2, 2))\n",
    "b = tf.range(2)\n",
    "c = tf.reshape(b, (2, 1))\n",
    "a, b, c, a @ c"
   ]
  },
  {
   "cell_type": "code",
   "execution_count": 30,
   "id": "ec149dc1-188c-4cd3-aa49-06078d5580b8",
   "metadata": {},
   "outputs": [
    {
     "data": {
      "text/plain": [
       "<tf.Tensor: shape=(5, 13), dtype=float32, numpy=\n",
       "array([[1., 0., 0., 0., 0., 0., 0., 0., 0., 0., 0., 0., 0.],\n",
       "       [0., 0., 0., 1., 0., 0., 0., 0., 0., 0., 0., 0., 0.],\n",
       "       [0., 0., 0., 0., 1., 0., 0., 0., 0., 0., 0., 0., 0.],\n",
       "       [0., 0., 0., 0., 0., 1., 0., 0., 0., 0., 0., 0., 0.],\n",
       "       [0., 0., 0., 0., 0., 1., 0., 0., 0., 0., 0., 0., 0.]],\n",
       "      dtype=float32)>"
      ]
     },
     "execution_count": 30,
     "metadata": {},
     "output_type": "execute_result"
    }
   ],
   "source": [
    "b = tf.constant([0, 3, 4, 5, 5])\n",
    "tf.one_hot(b, depth=13)"
   ]
  },
  {
   "cell_type": "code",
   "execution_count": 31,
   "id": "cde08f73-95c5-4ba7-95d1-a21c16c16cd8",
   "metadata": {},
   "outputs": [
    {
     "data": {
      "text/plain": [
       "(<tf.Tensor: shape=(4, 2), dtype=float32, numpy=\n",
       " array([[0.71795917, 0.50509465],\n",
       "        [0.5269016 , 0.8482598 ],\n",
       "        [0.00538146, 0.06584084],\n",
       "        [0.79319966, 0.5977236 ]], dtype=float32)>,\n",
       " <tf.Tensor: shape=(4, 2), dtype=float32, numpy=\n",
       " array([[1., 0.],\n",
       "        [0., 1.],\n",
       "        [0., 0.],\n",
       "        [0., 0.]], dtype=float32)>,\n",
       " <tf.Tensor: shape=(4,), dtype=float32, numpy=array([0.16733381, 0.1503252 , 0.00218199, 0.4932196 ], dtype=float32)>,\n",
       " <tf.Tensor: shape=(), dtype=float32, numpy=0.20326516>)"
      ]
     },
     "execution_count": 31,
     "metadata": {},
     "output_type": "execute_result"
    }
   ],
   "source": [
    "out = tf.random.uniform([4, 2])\n",
    "y = tf.range(4)\n",
    "y = tf.one_hot(y, depth=2)\n",
    "loss = tf.keras.losses.mse(y, out)\n",
    "m = tf.reduce_mean(loss)\n",
    "out, y, loss, m"
   ]
  },
  {
   "cell_type": "code",
   "execution_count": 32,
   "id": "189270aa-4d84-4614-bb97-e1dbfdf2a514",
   "metadata": {},
   "outputs": [
    {
     "data": {
      "text/plain": [
       "(<tf.Tensor: shape=(4, 2), dtype=float32, numpy=\n",
       " array([[0.27147436, 0.36639202],\n",
       "        [0.51479816, 0.8535249 ],\n",
       "        [0.24758053, 0.72304165],\n",
       "        [0.663761  , 0.16372573]], dtype=float32)>,\n",
       " <tf.Tensor: shape=(4, 2), dtype=float32, numpy=\n",
       " array([[1., 0.],\n",
       "        [0., 1.],\n",
       "        [0., 0.],\n",
       "        [0., 0.]], dtype=float32)>,\n",
       " <tf.Tensor: shape=(4,), dtype=float32, numpy=array([0.33249637, 0.14323606, 0.29204267, 0.23369241], dtype=float32)>)"
      ]
     },
     "execution_count": 32,
     "metadata": {},
     "output_type": "execute_result"
    }
   ],
   "source": [
    "out = tf.random.uniform([4, 2])\n",
    "y = tf.range(4)\n",
    "y = tf.one_hot(y, depth=2)\n",
    "loss = tf.keras.losses.mse(y, out)\n",
    "out, y, loss"
   ]
  },
  {
   "cell_type": "code",
   "execution_count": 33,
   "id": "5d227a0a-292a-4aa5-9a10-90fc4dc7110d",
   "metadata": {},
   "outputs": [
    {
     "data": {
      "text/plain": [
       "(<tf.Tensor: shape=(5,), dtype=int32, numpy=array([0, 1, 2, 3, 4])>,\n",
       " <tf.Tensor: shape=(), dtype=int32, numpy=2>)"
      ]
     },
     "execution_count": 33,
     "metadata": {},
     "output_type": "execute_result"
    }
   ],
   "source": [
    "a = tf.range(5)\n",
    "a, tf.reduce_mean(a)"
   ]
  },
  {
   "cell_type": "code",
   "execution_count": 34,
   "id": "5770c9d3-9290-427f-8164-37b2f95602d5",
   "metadata": {},
   "outputs": [
    {
     "data": {
      "text/plain": [
       "<tf.Variable 'kernel:0' shape=(784, 10) dtype=float32, numpy=\n",
       "array([[-0.02951557, -0.07177003, -0.02408069, ...,  0.08507853,\n",
       "         0.00081721, -0.00265571],\n",
       "       [-0.01964413,  0.06023789,  0.05487295, ..., -0.0071638 ,\n",
       "         0.02506561, -0.02076587],\n",
       "       [ 0.06763835,  0.00176254, -0.04254898, ..., -0.00888922,\n",
       "        -0.0770338 ,  0.05714805],\n",
       "       ...,\n",
       "       [-0.00804092,  0.08497003, -0.05595911, ..., -0.01711814,\n",
       "        -0.04232854, -0.05476615],\n",
       "       [ 0.05068586, -0.007269  , -0.04129183, ..., -0.00616296,\n",
       "        -0.01938014, -0.08653193],\n",
       "       [ 0.02608956, -0.08575377,  0.04481799, ..., -0.01034772,\n",
       "        -0.02418967, -0.00737866]], dtype=float32)>"
      ]
     },
     "execution_count": 34,
     "metadata": {},
     "output_type": "execute_result"
    }
   ],
   "source": [
    "net = layers.Dense(10)\n",
    "net.build((4, 784))\n",
    "net.kernel"
   ]
  },
  {
   "cell_type": "code",
   "execution_count": 35,
   "id": "e15b1791-effe-44db-9698-13074f17b8d1",
   "metadata": {},
   "outputs": [
    {
     "data": {
      "text/plain": [
       "<tf.Variable 'bias:0' shape=(10,) dtype=float32, numpy=array([0., 0., 0., 0., 0., 0., 0., 0., 0., 0.], dtype=float32)>"
      ]
     },
     "execution_count": 35,
     "metadata": {},
     "output_type": "execute_result"
    }
   ],
   "source": [
    "net.bias"
   ]
  },
  {
   "cell_type": "code",
   "execution_count": 36,
   "id": "7821f460-4d40-4729-9ce3-d9dea2195ea3",
   "metadata": {},
   "outputs": [
    {
     "data": {
      "text/plain": [
       "<tf.Variable 'kernel:0' shape=(784, 10) dtype=float32, numpy=\n",
       "array([[-0.02951557, -0.07177003, -0.02408069, ...,  0.08507853,\n",
       "         0.00081721, -0.00265571],\n",
       "       [-0.01964413,  0.06023789,  0.05487295, ..., -0.0071638 ,\n",
       "         0.02506561, -0.02076587],\n",
       "       [ 0.06763835,  0.00176254, -0.04254898, ..., -0.00888922,\n",
       "        -0.0770338 ,  0.05714805],\n",
       "       ...,\n",
       "       [-0.00804092,  0.08497003, -0.05595911, ..., -0.01711814,\n",
       "        -0.04232854, -0.05476615],\n",
       "       [ 0.05068586, -0.007269  , -0.04129183, ..., -0.00616296,\n",
       "        -0.01938014, -0.08653193],\n",
       "       [ 0.02608956, -0.08575377,  0.04481799, ..., -0.01034772,\n",
       "        -0.02418967, -0.00737866]], dtype=float32)>"
      ]
     },
     "execution_count": 36,
     "metadata": {},
     "output_type": "execute_result"
    }
   ],
   "source": [
    "net.kernel"
   ]
  },
  {
   "cell_type": "code",
   "execution_count": 37,
   "id": "5c88e948-1291-4a73-810e-f9ae7e49cee4",
   "metadata": {},
   "outputs": [],
   "source": [
    "a = tf.random.normal([5, 784])\n",
    "b = net(a)"
   ]
  },
  {
   "cell_type": "code",
   "execution_count": 38,
   "id": "c8cebd12-2192-45bf-9265-78563f2609ba",
   "metadata": {},
   "outputs": [
    {
     "data": {
      "text/plain": [
       "<tf.Tensor: shape=(5, 10), dtype=float32, numpy=\n",
       "array([[-0.2379098 , -0.9272796 ,  2.0105586 ,  0.6468125 ,  0.58646905,\n",
       "        -1.7710775 , -0.0095154 ,  0.25984803, -0.85342455,  1.5438879 ],\n",
       "       [-2.6107123 ,  1.0393198 ,  0.33591568,  2.6196194 , -1.7328484 ,\n",
       "        -2.751161  ,  0.86432904, -0.5496489 , -0.7003093 ,  1.8851707 ],\n",
       "       [-0.61960804,  1.8463048 , -3.0841815 ,  0.4801892 , -3.2569551 ,\n",
       "        -0.09469625,  1.667824  , -0.243523  ,  0.21756774,  0.7429425 ],\n",
       "       [ 0.85539806, -1.2348877 ,  0.57816195, -0.68164504, -1.004669  ,\n",
       "         4.0362997 ,  2.2599244 ,  0.01986712, -1.6694139 , -0.4421531 ],\n",
       "       [ 0.88143516, -0.43865782,  2.6837292 ,  2.4863276 , -3.763494  ,\n",
       "        -1.0621133 , -1.7191525 ,  0.08678174, -1.3301022 , -2.7866747 ]],\n",
       "      dtype=float32)>"
      ]
     },
     "execution_count": 38,
     "metadata": {},
     "output_type": "execute_result"
    }
   ],
   "source": [
    "b"
   ]
  },
  {
   "cell_type": "code",
   "execution_count": 39,
   "id": "29f48f19-b13e-4d34-8f39-aa033a3b173a",
   "metadata": {},
   "outputs": [],
   "source": [
    "a = tf.ones([1, 5, 5, 3])"
   ]
  },
  {
   "cell_type": "code",
   "execution_count": 40,
   "id": "c3388983-6fa4-4b0b-90ae-cc6616913eb0",
   "metadata": {},
   "outputs": [
    {
     "data": {
      "text/plain": [
       "<tf.Tensor: shape=(5, 3), dtype=float32, numpy=\n",
       "array([[1., 1., 1.],\n",
       "       [1., 1., 1.],\n",
       "       [1., 1., 1.],\n",
       "       [1., 1., 1.],\n",
       "       [1., 1., 1.]], dtype=float32)>"
      ]
     },
     "execution_count": 40,
     "metadata": {},
     "output_type": "execute_result"
    }
   ],
   "source": [
    "a[0][0]"
   ]
  },
  {
   "cell_type": "code",
   "execution_count": 41,
   "id": "449dacf4-1c71-48f1-b0ed-4fa68448f365",
   "metadata": {},
   "outputs": [
    {
     "data": {
      "text/plain": [
       "<tf.Tensor: shape=(3,), dtype=float32, numpy=array([1., 1., 1.], dtype=float32)>"
      ]
     },
     "execution_count": 41,
     "metadata": {},
     "output_type": "execute_result"
    }
   ],
   "source": [
    "a[0][0][1]"
   ]
  },
  {
   "cell_type": "code",
   "execution_count": 42,
   "id": "181bb90b-59ee-40df-a414-aa42736d39ee",
   "metadata": {},
   "outputs": [
    {
     "data": {
      "text/plain": [
       "<tf.Tensor: shape=(), dtype=float32, numpy=1.0>"
      ]
     },
     "execution_count": 42,
     "metadata": {},
     "output_type": "execute_result"
    }
   ],
   "source": [
    "a[0][0][1][1]"
   ]
  },
  {
   "cell_type": "code",
   "execution_count": 43,
   "id": "64fc1b33-d6fc-4404-8ebd-fc6a2d9f8baf",
   "metadata": {},
   "outputs": [],
   "source": [
    "a = tf.random.normal([4, 28, 28, 3])"
   ]
  },
  {
   "cell_type": "code",
   "execution_count": 44,
   "id": "3d35bf24-6f3c-4ce9-a438-0391d498818b",
   "metadata": {},
   "outputs": [
    {
     "data": {
      "text/plain": [
       "TensorShape([28, 28, 3])"
      ]
     },
     "execution_count": 44,
     "metadata": {},
     "output_type": "execute_result"
    }
   ],
   "source": [
    "a[1].shape"
   ]
  },
  {
   "cell_type": "code",
   "execution_count": 45,
   "id": "d8e95d70-e962-487c-868e-7e9d436aa2e9",
   "metadata": {},
   "outputs": [
    {
     "data": {
      "text/plain": [
       "TensorShape([28, 3])"
      ]
     },
     "execution_count": 45,
     "metadata": {},
     "output_type": "execute_result"
    }
   ],
   "source": [
    "a[1, 2].shape"
   ]
  },
  {
   "cell_type": "code",
   "execution_count": 46,
   "id": "cd0361d4-232d-4591-a9d9-2d4ae4454dd3",
   "metadata": {},
   "outputs": [
    {
     "data": {
      "text/plain": [
       "TensorShape([3])"
      ]
     },
     "execution_count": 46,
     "metadata": {},
     "output_type": "execute_result"
    }
   ],
   "source": [
    "a[1, 2, 3].shape"
   ]
  },
  {
   "cell_type": "code",
   "execution_count": 47,
   "id": "bee3b5ce-a408-4e87-8ad7-9f802726dfdd",
   "metadata": {},
   "outputs": [
    {
     "data": {
      "text/plain": [
       "<tf.Tensor: shape=(), dtype=float32, numpy=-1.0489656>"
      ]
     },
     "execution_count": 47,
     "metadata": {},
     "output_type": "execute_result"
    }
   ],
   "source": [
    "a[1, 2, 3, 2]"
   ]
  },
  {
   "cell_type": "code",
   "execution_count": 48,
   "id": "c3979b87-1495-4d10-a957-3e4b01095252",
   "metadata": {},
   "outputs": [
    {
     "data": {
      "text/plain": [
       "<tf.Tensor: shape=(10,), dtype=int32, numpy=array([0, 1, 2, 3, 4, 5, 6, 7, 8, 9])>"
      ]
     },
     "execution_count": 48,
     "metadata": {},
     "output_type": "execute_result"
    }
   ],
   "source": [
    "a = tf.range(10)\n",
    "a"
   ]
  },
  {
   "cell_type": "code",
   "execution_count": 49,
   "id": "e7ea6003-6e57-4d64-811b-691e8ba90aeb",
   "metadata": {},
   "outputs": [
    {
     "data": {
      "text/plain": [
       "<tf.Tensor: shape=(1,), dtype=int32, numpy=array([9])>"
      ]
     },
     "execution_count": 49,
     "metadata": {},
     "output_type": "execute_result"
    }
   ],
   "source": [
    "a[-1:]  # -> [-1:-1]"
   ]
  },
  {
   "cell_type": "code",
   "execution_count": 50,
   "id": "dcaf1aef-16f3-4dfa-827e-b42a48ba4e6c",
   "metadata": {},
   "outputs": [
    {
     "data": {
      "text/plain": [
       "<tf.Tensor: shape=(2,), dtype=int32, numpy=array([8, 9])>"
      ]
     },
     "execution_count": 50,
     "metadata": {},
     "output_type": "execute_result"
    }
   ],
   "source": [
    "a[-2:]  # -> [-2: -1]"
   ]
  },
  {
   "cell_type": "code",
   "execution_count": 51,
   "id": "e3d17549-5c96-4a73-a1b9-14d112d9bca0",
   "metadata": {},
   "outputs": [
    {
     "data": {
      "text/plain": [
       "<tf.Tensor: shape=(2,), dtype=int32, numpy=array([0, 1])>"
      ]
     },
     "execution_count": 51,
     "metadata": {},
     "output_type": "execute_result"
    }
   ],
   "source": [
    "a[:2]  # -> [0: 2]"
   ]
  },
  {
   "cell_type": "code",
   "execution_count": 52,
   "id": "ab1d5fec-1db4-44e0-9f55-cbcc94a8b9ea",
   "metadata": {},
   "outputs": [
    {
     "data": {
      "text/plain": [
       "<tf.Tensor: shape=(3, 3), dtype=int32, numpy=\n",
       "array([[0, 1, 2],\n",
       "       [3, 4, 5],\n",
       "       [6, 7, 8]])>"
      ]
     },
     "execution_count": 52,
     "metadata": {},
     "output_type": "execute_result"
    }
   ],
   "source": [
    "a = tf.range(9)\n",
    "a = tf.reshape(a, (3, 3))\n",
    "a"
   ]
  },
  {
   "cell_type": "code",
   "execution_count": 53,
   "id": "8db57e36-f339-4827-ba60-de8ffed5922d",
   "metadata": {},
   "outputs": [
    {
     "data": {
      "text/plain": [
       "(<tf.Tensor: shape=(3, 2), dtype=int32, numpy=\n",
       " array([[0, 1],\n",
       "        [3, 4],\n",
       "        [6, 7]])>,\n",
       " <tf.Tensor: shape=(3, 1), dtype=int32, numpy=\n",
       " array([[2],\n",
       "        [5],\n",
       "        [8]])>)"
      ]
     },
     "execution_count": 53,
     "metadata": {},
     "output_type": "execute_result"
    }
   ],
   "source": [
    "a[:, 0:2], a[:, -1:]"
   ]
  },
  {
   "cell_type": "code",
   "execution_count": 54,
   "id": "47f33130-f16d-4498-bbaa-ae479bfd3466",
   "metadata": {},
   "outputs": [],
   "source": [
    "a = tf.random.normal([4, 28, 28, 3])"
   ]
  },
  {
   "cell_type": "code",
   "execution_count": 55,
   "id": "a99285ad-d7d9-4efb-916e-2d9123321d2f",
   "metadata": {},
   "outputs": [
    {
     "data": {
      "text/plain": [
       "(TensorShape([4, 28, 28]), TensorShape([4, 28, 28, 2]))"
      ]
     },
     "execution_count": 55,
     "metadata": {},
     "output_type": "execute_result"
    }
   ],
   "source": [
    "a[:, :, :, 0].shape, a[:, :, :, :2].shape  # 取图片的R通道，RG双通道"
   ]
  },
  {
   "cell_type": "code",
   "execution_count": 56,
   "id": "2582aaa1-6d77-4618-9dff-bb30b2867581",
   "metadata": {},
   "outputs": [
    {
     "data": {
      "text/plain": [
       "TensorShape([28, 28])"
      ]
     },
     "execution_count": 56,
     "metadata": {},
     "output_type": "execute_result"
    }
   ],
   "source": [
    "a[1, :, :, 0].shape  # 第一张图片的R通道"
   ]
  },
  {
   "cell_type": "code",
   "execution_count": 57,
   "id": "24b14f52-e0f5-411f-a1c3-40aa130c30ac",
   "metadata": {},
   "outputs": [
    {
     "data": {
      "text/plain": [
       "TensorShape([4, 28, 3])"
      ]
     },
     "execution_count": 57,
     "metadata": {},
     "output_type": "execute_result"
    }
   ],
   "source": [
    "a[:, 1, :].shape  # 所有图片的第一行所有通道"
   ]
  },
  {
   "cell_type": "code",
   "execution_count": 58,
   "id": "a5851c29-7540-435b-a896-33b5af5f5e84",
   "metadata": {},
   "outputs": [
    {
     "data": {
      "text/plain": [
       "TensorShape([2, 28, 28, 3])"
      ]
     },
     "execution_count": 58,
     "metadata": {},
     "output_type": "execute_result"
    }
   ],
   "source": [
    "a[::2].shape  # 取第2，4张图片"
   ]
  },
  {
   "cell_type": "code",
   "execution_count": 59,
   "id": "9deba0df-ee7f-45d5-b40b-7c435f81df02",
   "metadata": {},
   "outputs": [
    {
     "data": {
      "text/plain": [
       "TensorShape([4, 14, 14, 3])"
      ]
     },
     "execution_count": 59,
     "metadata": {},
     "output_type": "execute_result"
    }
   ],
   "source": [
    "a[:, ::2, ::2].shape  #  隔行隔列采样"
   ]
  },
  {
   "cell_type": "code",
   "execution_count": 60,
   "id": "e4519e02-93e4-4144-ad0c-90bf38014dae",
   "metadata": {},
   "outputs": [
    {
     "data": {
      "text/plain": [
       "<tf.Tensor: shape=(9,), dtype=int32, numpy=array([0, 1, 2, 3, 4, 5, 6, 7, 8])>"
      ]
     },
     "execution_count": 60,
     "metadata": {},
     "output_type": "execute_result"
    }
   ],
   "source": [
    "a = tf.range(9)\n",
    "a"
   ]
  },
  {
   "cell_type": "code",
   "execution_count": 63,
   "id": "6eff3b7b-a6cc-4306-a6a9-15c1e1f827c6",
   "metadata": {},
   "outputs": [
    {
     "data": {
      "text/plain": [
       "(<tf.Tensor: shape=(9,), dtype=int32, numpy=array([8, 7, 6, 5, 4, 3, 2, 1, 0])>,\n",
       " <tf.Tensor: shape=(5,), dtype=int32, numpy=array([8, 6, 4, 2, 0])>)"
      ]
     },
     "execution_count": 63,
     "metadata": {},
     "output_type": "execute_result"
    }
   ],
   "source": [
    "a[::-1], a[::-2]  # 倒序采样，倒叙隔1行采样"
   ]
  },
  {
   "cell_type": "code",
   "execution_count": 68,
   "id": "848ba580-0f58-40a5-8ac3-d142522ab388",
   "metadata": {},
   "outputs": [
    {
     "data": {
      "text/plain": [
       "<tf.Tensor: shape=(3, 3, 3), dtype=int32, numpy=\n",
       "array([[[ 0,  1,  2],\n",
       "        [ 3,  4,  5],\n",
       "        [ 6,  7,  8]],\n",
       "\n",
       "       [[ 9, 10, 11],\n",
       "        [12, 13, 14],\n",
       "        [15, 16, 17]],\n",
       "\n",
       "       [[18, 19, 20],\n",
       "        [21, 22, 23],\n",
       "        [24, 25, 26]]])>"
      ]
     },
     "execution_count": 68,
     "metadata": {},
     "output_type": "execute_result"
    }
   ],
   "source": [
    "a = tf.reshape(tf.range(27), (3, 3, 3))\n",
    "a"
   ]
  },
  {
   "cell_type": "code",
   "execution_count": 72,
   "id": "44b6250a-a42c-4c03-a008-4a9d3d3640fd",
   "metadata": {},
   "outputs": [
    {
     "data": {
      "text/plain": [
       "<tf.Tensor: shape=(2, 3, 3), dtype=int32, numpy=\n",
       "array([[[ 0,  1,  2],\n",
       "        [ 3,  4,  5],\n",
       "        [ 6,  7,  8]],\n",
       "\n",
       "       [[18, 19, 20],\n",
       "        [21, 22, 23],\n",
       "        [24, 25, 26]]])>"
      ]
     },
     "execution_count": 72,
     "metadata": {},
     "output_type": "execute_result"
    }
   ],
   "source": [
    "tf.gather(a, axis=0, indices=[0, 2]) # 取第一个维度，的第1，3个成员"
   ]
  },
  {
   "cell_type": "code",
   "execution_count": 73,
   "id": "b8b76ef2-1142-4c17-a507-cf8567412d78",
   "metadata": {},
   "outputs": [
    {
     "data": {
      "text/plain": [
       "<tf.Tensor: shape=(3, 2, 3), dtype=int32, numpy=\n",
       "array([[[ 0,  1,  2],\n",
       "        [ 3,  4,  5]],\n",
       "\n",
       "       [[ 9, 10, 11],\n",
       "        [12, 13, 14]],\n",
       "\n",
       "       [[18, 19, 20],\n",
       "        [21, 22, 23]]])>"
      ]
     },
     "execution_count": 73,
     "metadata": {},
     "output_type": "execute_result"
    }
   ],
   "source": [
    "tf.gather(a, axis=1, indices=[0, 1]) # 第二个维度，的第1，2个成员"
   ]
  },
  {
   "cell_type": "code",
   "execution_count": 75,
   "id": "85091cfb-6b0e-41fe-9d80-67ddad6438fe",
   "metadata": {},
   "outputs": [
    {
     "data": {
      "text/plain": [
       "<tf.Tensor: shape=(3, 3, 2), dtype=int32, numpy=\n",
       "array([[[ 1,  0],\n",
       "        [ 4,  3],\n",
       "        [ 7,  6]],\n",
       "\n",
       "       [[10,  9],\n",
       "        [13, 12],\n",
       "        [16, 15]],\n",
       "\n",
       "       [[19, 18],\n",
       "        [22, 21],\n",
       "        [25, 24]]])>"
      ]
     },
     "execution_count": 75,
     "metadata": {},
     "output_type": "execute_result"
    }
   ],
   "source": [
    "tf.gather(a, axis=2, indices=[1, 0])"
   ]
  },
  {
   "cell_type": "code",
   "execution_count": 90,
   "id": "9433f75a-543a-446e-a85b-2d16219491e7",
   "metadata": {},
   "outputs": [
    {
     "data": {
      "text/plain": [
       "<tf.Tensor: shape=(3, 3, 3), dtype=int32, numpy=\n",
       "array([[[ 0,  1,  2],\n",
       "        [ 3,  4,  5],\n",
       "        [ 6,  7,  8]],\n",
       "\n",
       "       [[ 9, 10, 11],\n",
       "        [12, 13, 14],\n",
       "        [15, 16, 17]],\n",
       "\n",
       "       [[18, 19, 20],\n",
       "        [21, 22, 23],\n",
       "        [24, 25, 26]]])>"
      ]
     },
     "execution_count": 90,
     "metadata": {},
     "output_type": "execute_result"
    }
   ],
   "source": [
    "a"
   ]
  },
  {
   "cell_type": "code",
   "execution_count": 92,
   "id": "b17f07d3-14e8-40b6-a86c-cf71a774238e",
   "metadata": {},
   "outputs": [
    {
     "data": {
      "text/plain": [
       "(<tf.Tensor: shape=(3,), dtype=int32, numpy=array([24, 25, 26])>,\n",
       " <tf.Tensor: shape=(3,), dtype=int32, numpy=array([24, 25, 26])>)"
      ]
     },
     "execution_count": 92,
     "metadata": {},
     "output_type": "execute_result"
    }
   ],
   "source": [
    "tf.gather_nd(a, [2, 2]), a[2, 2] # 取 a[2, 2]共一个样本"
   ]
  },
  {
   "cell_type": "code",
   "execution_count": 94,
   "id": "e2078401-5f69-400a-bce4-9cb0c15fabe4",
   "metadata": {},
   "outputs": [
    {
     "data": {
      "text/plain": [
       "(<tf.Tensor: shape=(3, 3), dtype=int32, numpy=\n",
       " array([[12, 13, 14],\n",
       "        [15, 16, 17],\n",
       "        [18, 19, 20]])>,\n",
       " <tf.Tensor: shape=(3,), dtype=int32, numpy=array([12, 13, 14])>,\n",
       " <tf.Tensor: shape=(3,), dtype=int32, numpy=array([15, 16, 17])>,\n",
       " <tf.Tensor: shape=(3,), dtype=int32, numpy=array([18, 19, 20])>)"
      ]
     },
     "execution_count": 94,
     "metadata": {},
     "output_type": "execute_result"
    }
   ],
   "source": [
    "tf.gather_nd(a, [[1, 1], [1, 2], [2, 0]]), a[1, 1], a[1, 2], a[2, 0]\n",
    "# 取a[1, 1], a[1, 2], a[2, 0] 共三个样本"
   ]
  },
  {
   "cell_type": "code",
   "execution_count": 96,
   "id": "b47ca801-330f-43dc-ad90-ff553b0f7933",
   "metadata": {},
   "outputs": [
    {
     "data": {
      "text/plain": [
       "<tf.Tensor: shape=(4,), dtype=int32, numpy=array([12, 16, 20, 19])>"
      ]
     },
     "execution_count": 96,
     "metadata": {},
     "output_type": "execute_result"
    }
   ],
   "source": [
    "tf.gather_nd(a, [[1, 1, 0], [1, 2, 1], [2, 0, 2], [2, 0, 1]])\n",
    "# 取a[1, 1, 0], a[1, 2, 1], a[2, 0, 2], a[2, 0, 1] 共4个样本"
   ]
  },
  {
   "cell_type": "code",
   "execution_count": 97,
   "id": "003e3105-7590-4596-816d-7a40b1edc660",
   "metadata": {},
   "outputs": [
    {
     "data": {
      "text/plain": [
       "(<tf.Tensor: shape=(), dtype=int32, numpy=12>,\n",
       " <tf.Tensor: shape=(), dtype=int32, numpy=16>,\n",
       " <tf.Tensor: shape=(), dtype=int32, numpy=20>,\n",
       " <tf.Tensor: shape=(), dtype=int32, numpy=19>)"
      ]
     },
     "execution_count": 97,
     "metadata": {},
     "output_type": "execute_result"
    }
   ],
   "source": [
    "a[1, 1, 0], a[1, 2, 1], a[2, 0, 2], a[2, 0, 1]"
   ]
  },
  {
   "cell_type": "code",
   "execution_count": 98,
   "id": "cbbc7be9-35cf-4248-a0cb-5a352049b041",
   "metadata": {},
   "outputs": [
    {
     "data": {
      "text/plain": [
       "<tf.Tensor: shape=(3, 3, 3), dtype=int32, numpy=\n",
       "array([[[ 0,  1,  2],\n",
       "        [ 3,  4,  5],\n",
       "        [ 6,  7,  8]],\n",
       "\n",
       "       [[ 9, 10, 11],\n",
       "        [12, 13, 14],\n",
       "        [15, 16, 17]],\n",
       "\n",
       "       [[18, 19, 20],\n",
       "        [21, 22, 23],\n",
       "        [24, 25, 26]]])>"
      ]
     },
     "execution_count": 98,
     "metadata": {},
     "output_type": "execute_result"
    }
   ],
   "source": [
    "a"
   ]
  },
  {
   "cell_type": "code",
   "execution_count": 100,
   "id": "09ef3e1d-9e14-4d8d-ada5-5e878816a0ef",
   "metadata": {},
   "outputs": [
    {
     "data": {
      "text/plain": [
       "<tf.Tensor: shape=(1, 3, 3), dtype=int32, numpy=\n",
       "array([[[ 0,  1,  2],\n",
       "        [ 9, 10, 11],\n",
       "        [18, 19, 20]]])>"
      ]
     },
     "execution_count": 100,
     "metadata": {},
     "output_type": "execute_result"
    }
   ],
   "source": [
    "tf.gather_nd(a, [[[0, 0], [1, 0], [2, 0]]])"
   ]
  },
  {
   "cell_type": "code",
   "execution_count": 109,
   "id": "f438f188-e78a-4424-818b-2525b160ab29",
   "metadata": {},
   "outputs": [],
   "source": [
    "a=tf.ones([4, 28, 28, 3])"
   ]
  },
  {
   "cell_type": "code",
   "execution_count": 110,
   "id": "1ed4c5bb-7e5c-4a0a-b39f-5b909429610c",
   "metadata": {},
   "outputs": [
    {
     "data": {
      "text/plain": [
       "TensorShape([3, 28, 28, 3])"
      ]
     },
     "execution_count": 110,
     "metadata": {},
     "output_type": "execute_result"
    }
   ],
   "source": [
    "tf.boolean_mask(a, mask=[True, True, False, True]).shape # 取0，1，3张图片"
   ]
  },
  {
   "cell_type": "code",
   "execution_count": 111,
   "id": "072ba07a-07df-4948-ba27-38c7be550159",
   "metadata": {},
   "outputs": [
    {
     "data": {
      "text/plain": [
       "TensorShape([4, 28, 28, 2])"
      ]
     },
     "execution_count": 111,
     "metadata": {},
     "output_type": "execute_result"
    }
   ],
   "source": [
    "tf.boolean_mask(a, mask=[True, True, False], axis=3).shape # 取 RG通道"
   ]
  },
  {
   "cell_type": "code",
   "execution_count": 121,
   "id": "101a7989-2c0d-463d-a20d-9a148f49fa5a",
   "metadata": {},
   "outputs": [
    {
     "data": {
      "text/plain": [
       "<tf.Tensor: shape=(2, 3, 4), dtype=int32, numpy=\n",
       "array([[[ 0,  1,  2,  3],\n",
       "        [ 4,  5,  6,  7],\n",
       "        [ 8,  9, 10, 11]],\n",
       "\n",
       "       [[12, 13, 14, 15],\n",
       "        [16, 17, 18, 19],\n",
       "        [20, 21, 22, 23]]])>"
      ]
     },
     "execution_count": 121,
     "metadata": {},
     "output_type": "execute_result"
    }
   ],
   "source": [
    "a=tf.reshape(tf.range(24), [2, 3, 4])\n",
    "a"
   ]
  },
  {
   "cell_type": "code",
   "execution_count": 122,
   "id": "431cf71f-d2cf-42b2-8ef3-aff81e8af536",
   "metadata": {},
   "outputs": [
    {
     "data": {
      "text/plain": [
       "<tf.Tensor: shape=(3, 4), dtype=int32, numpy=\n",
       "array([[ 0,  1,  2,  3],\n",
       "       [12, 13, 14, 15],\n",
       "       [16, 17, 18, 19]])>"
      ]
     },
     "execution_count": 122,
     "metadata": {},
     "output_type": "execute_result"
    }
   ],
   "source": [
    "tf.boolean_mask(a, mask=[[True, False, False], [True, True, False]])"
   ]
  },
  {
   "cell_type": "code",
   "execution_count": null,
   "id": "e21c70ed-8ead-4699-a07d-d415cc6c19e5",
   "metadata": {},
   "outputs": [],
   "source": []
  }
 ],
 "metadata": {
  "kernelspec": {
   "display_name": "Python 3 (ipykernel)",
   "language": "python",
   "name": "python3"
  },
  "language_info": {
   "codemirror_mode": {
    "name": "ipython",
    "version": 3
   },
   "file_extension": ".py",
   "mimetype": "text/x-python",
   "name": "python",
   "nbconvert_exporter": "python",
   "pygments_lexer": "ipython3",
   "version": "3.9.9"
  }
 },
 "nbformat": 4,
 "nbformat_minor": 5
}
