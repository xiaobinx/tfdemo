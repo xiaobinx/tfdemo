{
 "cells": [
  {
   "cell_type": "code",
   "execution_count": 1,
   "id": "e8338819-ec65-4c46-b772-5cd57147bcee",
   "metadata": {},
   "outputs": [],
   "source": [
    "import os\n",
    "\n",
    "import tensorflow as tf\n",
    "from tensorflow import keras\n",
    "from tensorflow.keras import datasets, layers, optimizers\n",
    "\n",
    "os.environ[\"TF_CPP_MIN_LOG_LEVEL\"] = \"2\""
   ]
  },
  {
   "cell_type": "markdown",
   "id": "826be159-ec48-4ba5-a1f2-ee9cd628ac7a",
   "metadata": {},
   "source": [
    "## 17.1 MSE\n",
    "\n",
    "均方差"
   ]
  },
  {
   "cell_type": "code",
   "execution_count": 3,
   "id": "6c492ecc-85b2-47c8-bef1-58bc8204c104",
   "metadata": {},
   "outputs": [
    {
     "data": {
      "text/plain": [
       "<tf.Tensor: shape=(5, 4), dtype=float32, numpy=\n",
       "array([[0., 1., 0., 0.],\n",
       "       [0., 0., 1., 0.],\n",
       "       [0., 0., 0., 1.],\n",
       "       [1., 0., 0., 0.],\n",
       "       [0., 0., 1., 0.]], dtype=float32)>"
      ]
     },
     "execution_count": 3,
     "metadata": {},
     "output_type": "execute_result"
    }
   ],
   "source": [
    "y = tf.constant([1, 2, 3, 0, 2])\n",
    "y = tf.one_hot(y, depth=4)\n",
    "y"
   ]
  },
  {
   "cell_type": "code",
   "execution_count": 4,
   "id": "d5070411-2b09-4f69-a81c-58d1c6e14e1d",
   "metadata": {},
   "outputs": [],
   "source": [
    "out = tf.random.normal([5, 4])"
   ]
  },
  {
   "cell_type": "code",
   "execution_count": 5,
   "id": "40781290-e9c4-4333-8b27-fab4c6d1c497",
   "metadata": {},
   "outputs": [],
   "source": [
    "loss1 = tf.reduce_mean(tf.square(y-out))"
   ]
  },
  {
   "cell_type": "code",
   "execution_count": 6,
   "id": "abb9a6ad-92f1-4dc5-9611-a9069b865604",
   "metadata": {},
   "outputs": [],
   "source": [
    "loss2 = tf.square(tf.norm(y-out))/(5*4)"
   ]
  },
  {
   "cell_type": "code",
   "execution_count": 7,
   "id": "36d55f32-8b28-43f8-b060-6ca25cfead07",
   "metadata": {},
   "outputs": [],
   "source": [
    "loss3 = tf.reduce_mean(tf.losses.MSE(y, out))"
   ]
  },
  {
   "cell_type": "code",
   "execution_count": 8,
   "id": "6648a18f-11a0-41ac-ba33-6a6081956491",
   "metadata": {},
   "outputs": [
    {
     "data": {
      "text/plain": [
       "(<tf.Tensor: shape=(), dtype=float32, numpy=1.1351672>,\n",
       " <tf.Tensor: shape=(), dtype=float32, numpy=1.1351674>,\n",
       " <tf.Tensor: shape=(), dtype=float32, numpy=1.1351672>)"
      ]
     },
     "execution_count": 8,
     "metadata": {},
     "output_type": "execute_result"
    }
   ],
   "source": [
    "loss1, loss2, loss3"
   ]
  },
  {
   "cell_type": "markdown",
   "id": "a419d522-159c-40c9-b278-5fcf8b90002f",
   "metadata": {},
   "source": [
    "## 17.2 Entropy\n",
    "交叉熵"
   ]
  },
  {
   "cell_type": "code",
   "execution_count": 95,
   "id": "5a88d860-5708-44bd-b140-2ceeff5f16c2",
   "metadata": {},
   "outputs": [
    {
     "data": {
      "text/plain": [
       "<tf.Tensor: shape=(), dtype=float32, numpy=1.3567796>"
      ]
     },
     "execution_count": 95,
     "metadata": {},
     "output_type": "execute_result"
    }
   ],
   "source": [
    "a = tf.constant([0.1, 0.1, 0.1, 0.7])\n",
    "-tf.reduce_sum(a*tf.math.log(a)/tf.math.log(2.)) # 计算熵"
   ]
  },
  {
   "cell_type": "code",
   "execution_count": 84,
   "id": "e1d10531-1c6b-4ccc-b4e9-bbb51894a339",
   "metadata": {},
   "outputs": [
    {
     "data": {
      "text/plain": [
       "<tf.Tensor: shape=(), dtype=float32, numpy=3.321928>"
      ]
     },
     "execution_count": 84,
     "metadata": {},
     "output_type": "execute_result"
    }
   ],
   "source": [
    "a = tf.constant(0.1)\n",
    "-tf.math.log(a)/tf.math.log(2.) # 计算熵"
   ]
  },
  {
   "cell_type": "code",
   "execution_count": 97,
   "id": "f14859b2-8e0b-4d55-9467-99f7d8b30c9f",
   "metadata": {},
   "outputs": [
    {
     "data": {
      "text/plain": [
       "<tf.Tensor: shape=(), dtype=float32, numpy=0.24194068>"
      ]
     },
     "execution_count": 97,
     "metadata": {},
     "output_type": "execute_result"
    }
   ],
   "source": [
    "a = tf.constant([0.01, 0.01, 0.01, 0.97])\n",
    "-tf.reduce_sum(a*tf.math.log(a)/tf.math.log(2.)) # 计算熵"
   ]
  },
  {
   "cell_type": "code",
   "execution_count": 98,
   "id": "f19d9e38-4ddd-474e-aadf-4a9f012e172f",
   "metadata": {},
   "outputs": [
    {
     "data": {
      "text/plain": [
       "<tf.Tensor: shape=(), dtype=float32, numpy=2.0>"
      ]
     },
     "execution_count": 98,
     "metadata": {},
     "output_type": "execute_result"
    }
   ],
   "source": [
    "a = tf.fill([4], 0.25)\n",
    "-tf.reduce_sum(a*tf.math.log(a)/tf.math.log(2.)) # 计算熵"
   ]
  },
  {
   "cell_type": "code",
   "execution_count": 100,
   "id": "00d42b85-a6bc-4ecc-837e-85376f34a36b",
   "metadata": {},
   "outputs": [
    {
     "data": {
      "text/plain": [
       "<tf.Tensor: shape=(), dtype=float32, numpy=0.10536041>"
      ]
     },
     "execution_count": 100,
     "metadata": {},
     "output_type": "execute_result"
    }
   ],
   "source": [
    "tf.losses.binary_crossentropy([0], [0.1]) # 二分类交叉熵损失函数"
   ]
  },
  {
   "cell_type": "code",
   "execution_count": 99,
   "id": "de73fa9e-0dfc-47a0-b46e-ae9dce40a594",
   "metadata": {},
   "outputs": [
    {
     "data": {
      "text/plain": [
       "<tf.Tensor: shape=(), dtype=float32, numpy=0.39925367>"
      ]
     },
     "execution_count": 99,
     "metadata": {},
     "output_type": "execute_result"
    }
   ],
   "source": [
    "tf.losses.binary_crossentropy([0, 1], [0.1, 0.5]) # 二分类交叉熵损失函数"
   ]
  },
  {
   "cell_type": "code",
   "execution_count": 79,
   "id": "9cf8f522-b757-472e-bf09-2ae30d0b1852",
   "metadata": {},
   "outputs": [
    {
     "data": {
      "text/plain": [
       "<tf.Tensor: shape=(), dtype=float32, numpy=0.030459179>"
      ]
     },
     "execution_count": 79,
     "metadata": {},
     "output_type": "execute_result"
    }
   ],
   "source": [
    "tf.losses.categorical_crossentropy([0, 0, 0, 1], [0.01, 0.01, 0.01, 0.97]) # 多分类交叉熵损失函数"
   ]
  },
  {
   "cell_type": "code",
   "execution_count": null,
   "id": "d2bdbafd-3f36-44fa-9376-2a1699a83c32",
   "metadata": {},
   "outputs": [],
   "source": []
  }
 ],
 "metadata": {
  "kernelspec": {
   "display_name": "Python 3 (ipykernel)",
   "language": "python",
   "name": "python3"
  },
  "language_info": {
   "codemirror_mode": {
    "name": "ipython",
    "version": 3
   },
   "file_extension": ".py",
   "mimetype": "text/x-python",
   "name": "python",
   "nbconvert_exporter": "python",
   "pygments_lexer": "ipython3",
   "version": "3.9.9"
  }
 },
 "nbformat": 4,
 "nbformat_minor": 5
}
