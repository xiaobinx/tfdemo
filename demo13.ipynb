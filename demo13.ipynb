{
 "cells": [
  {
   "cell_type": "code",
   "execution_count": 1,
   "id": "262064e8-d503-4a80-b6a5-ca6efc2a76d4",
   "metadata": {},
   "outputs": [],
   "source": [
    "import os\n",
    "\n",
    "import tensorflow as tf\n",
    "from tensorflow import keras\n",
    "from tensorflow.keras import datasets, layers, optimizers\n",
    "\n",
    "os.environ[\"TF_CPP_MIN_LOG_LEVEL\"] = \"2\""
   ]
  },
  {
   "cell_type": "markdown",
   "id": "7a096066-46d2-4675-be9c-b636f9f77945",
   "metadata": {},
   "source": [
    "## 15.1 创建单层"
   ]
  },
  {
   "cell_type": "code",
   "execution_count": 40,
   "id": "c52e750f-3680-4e5d-b45e-5ada66058ea6",
   "metadata": {},
   "outputs": [],
   "source": [
    "dense = tf.keras.layers.Dense(2)"
   ]
  },
  {
   "cell_type": "code",
   "execution_count": 41,
   "id": "a0889fdc-f6a4-4fec-82a4-29bc0d86a651",
   "metadata": {},
   "outputs": [],
   "source": [
    "dense.build(input_shape=[3, 5])"
   ]
  },
  {
   "cell_type": "code",
   "execution_count": 42,
   "id": "1834e739-12b7-4301-b65e-8bb3c37ed0f4",
   "metadata": {},
   "outputs": [
    {
     "data": {
      "text/plain": [
       "(<tf.Variable 'kernel:0' shape=(5, 2) dtype=float32, numpy=\n",
       " array([[-0.35883677,  0.61218846],\n",
       "        [-0.60147965, -0.6774914 ],\n",
       "        [-0.4706975 ,  0.3543769 ],\n",
       "        [ 0.36547863, -0.18171227],\n",
       "        [ 0.17335379,  0.12288344]], dtype=float32)>,\n",
       " <tf.Variable 'bias:0' shape=(2,) dtype=float32, numpy=array([0., 0.], dtype=float32)>)"
      ]
     },
     "execution_count": 42,
     "metadata": {},
     "output_type": "execute_result"
    }
   ],
   "source": [
    "dense.kernel, dense.bias # 权重"
   ]
  },
  {
   "cell_type": "code",
   "execution_count": 44,
   "id": "816bc192-137b-4d55-868a-319400d1203c",
   "metadata": {},
   "outputs": [],
   "source": [
    "x = tf.random.uniform([3, 5], maxval=10)"
   ]
  },
  {
   "cell_type": "code",
   "execution_count": 45,
   "id": "6b4bf3cf-f204-46dc-a19d-2fea2e7db085",
   "metadata": {},
   "outputs": [
    {
     "data": {
      "text/plain": [
       "<tf.Tensor: shape=(3, 2), dtype=float32, numpy=\n",
       "array([[ -4.274965 ,  -2.3277364],\n",
       "       [-10.026539 ,   2.6969688],\n",
       "       [ -5.9500647,  -4.0947437]], dtype=float32)>"
      ]
     },
     "execution_count": 45,
     "metadata": {},
     "output_type": "execute_result"
    }
   ],
   "source": [
    "dense(x)"
   ]
  },
  {
   "cell_type": "markdown",
   "id": "3c9ffe09-9de3-44aa-ac95-2021e8501d7c",
   "metadata": {},
   "source": [
    "## 15.2 多层"
   ]
  },
  {
   "cell_type": "code",
   "execution_count": 48,
   "id": "a0ca2abb-5b2b-4463-8629-bfd996101e70",
   "metadata": {},
   "outputs": [],
   "source": [
    "model = tf.keras.Sequential([\n",
    "    tf.keras.layers.Dense(10, activation='relu'),\n",
    "    tf.keras.layers.Dense(10, activation='relu'),\n",
    "    tf.keras.layers.Dense(2),\n",
    "])"
   ]
  },
  {
   "cell_type": "code",
   "execution_count": 49,
   "id": "29c9f30d-4310-43d5-8795-5f5e6ae223ee",
   "metadata": {},
   "outputs": [],
   "source": [
    "model.build(input_shape=[None, 5]) # 根据输入维度构建模型的权重"
   ]
  },
  {
   "cell_type": "code",
   "execution_count": 50,
   "id": "695472a2-fb78-4212-b70a-74f814ce8d61",
   "metadata": {},
   "outputs": [
    {
     "name": "stdout",
     "output_type": "stream",
     "text": [
      "Model: \"sequential_2\"\n",
      "_________________________________________________________________\n",
      " Layer (type)                Output Shape              Param #   \n",
      "=================================================================\n",
      " dense_12 (Dense)            (None, 10)                60        \n",
      "                                                                 \n",
      " dense_13 (Dense)            (None, 10)                110       \n",
      "                                                                 \n",
      " dense_14 (Dense)            (None, 2)                 22        \n",
      "                                                                 \n",
      "=================================================================\n",
      "Total params: 192\n",
      "Trainable params: 192\n",
      "Non-trainable params: 0\n",
      "_________________________________________________________________\n"
     ]
    }
   ],
   "source": [
    "model.summary() # 输出"
   ]
  },
  {
   "cell_type": "code",
   "execution_count": 39,
   "id": "47647cef-a0b2-4898-8c34-f6372a6fc6a5",
   "metadata": {},
   "outputs": [
    {
     "name": "stdout",
     "output_type": "stream",
     "text": [
      "dense_8/kernel:0 (5, 10)\n",
      "dense_8/bias:0 (10,)\n",
      "dense_9/kernel:0 (10, 10)\n",
      "dense_9/bias:0 (10,)\n",
      "dense_10/kernel:0 (10, 2)\n",
      "dense_10/bias:0 (2,)\n"
     ]
    }
   ],
   "source": [
    "for p in model.trainable_variables: # 得到具体的权重\n",
    "    print(p.name, p.shape)"
   ]
  },
  {
   "cell_type": "code",
   "execution_count": null,
   "id": "32f2280c-cdf1-4921-9d43-4da3836d5283",
   "metadata": {},
   "outputs": [],
   "source": []
  }
 ],
 "metadata": {
  "kernelspec": {
   "display_name": "Python 3 (ipykernel)",
   "language": "python",
   "name": "python3"
  },
  "language_info": {
   "codemirror_mode": {
    "name": "ipython",
    "version": 3
   },
   "file_extension": ".py",
   "mimetype": "text/x-python",
   "name": "python",
   "nbconvert_exporter": "python",
   "pygments_lexer": "ipython3",
   "version": "3.9.9"
  }
 },
 "nbformat": 4,
 "nbformat_minor": 5
}
