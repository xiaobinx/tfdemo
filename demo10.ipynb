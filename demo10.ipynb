{
 "cells": [
  {
   "cell_type": "code",
   "execution_count": 1,
   "id": "9d6cf0a4-e50f-4616-8828-4efb87abf1ff",
   "metadata": {},
   "outputs": [],
   "source": [
    "import os\n",
    "\n",
    "import tensorflow as tf\n",
    "from tensorflow import keras\n",
    "from tensorflow.keras import datasets, layers, optimizers\n",
    "\n",
    "os.environ[\"TF_CPP_MIN_LOG_LEVEL\"] = \"2\""
   ]
  },
  {
   "cell_type": "markdown",
   "id": "06340b52-ad7e-460e-b946-dbd11accea75",
   "metadata": {},
   "source": [
    "# tf.maximum/tf.minimum/tf.clip_by_value\n",
    "限幅"
   ]
  },
  {
   "cell_type": "code",
   "execution_count": 2,
   "id": "c0e317f9-c4f1-49eb-a898-3b1a23811889",
   "metadata": {},
   "outputs": [
    {
     "data": {
      "text/plain": [
       "<tf.Tensor: shape=(3, 4), dtype=int32, numpy=\n",
       "array([[ 0,  1,  2,  3],\n",
       "       [ 4,  5,  6,  7],\n",
       "       [ 8,  9, 10, 11]])>"
      ]
     },
     "execution_count": 2,
     "metadata": {},
     "output_type": "execute_result"
    }
   ],
   "source": [
    "a = tf.reshape(tf.range(12), [3, 4])\n",
    "a"
   ]
  },
  {
   "cell_type": "code",
   "execution_count": 4,
   "id": "f4109f12-0c00-45aa-a4d3-9952506a5ac2",
   "metadata": {},
   "outputs": [
    {
     "data": {
      "text/plain": [
       "<tf.Tensor: shape=(3, 4), dtype=int32, numpy=\n",
       "array([[ 2,  2,  2,  3],\n",
       "       [ 4,  5,  6,  7],\n",
       "       [ 8,  9, 10, 11]])>"
      ]
     },
     "execution_count": 4,
     "metadata": {},
     "output_type": "execute_result"
    }
   ],
   "source": [
    "tf.maximum(a, 2) # 使所有元素不小于2"
   ]
  },
  {
   "cell_type": "code",
   "execution_count": 6,
   "id": "0f7ebef7-0766-4648-aa6e-ec7a075af482",
   "metadata": {},
   "outputs": [
    {
     "data": {
      "text/plain": [
       "<tf.Tensor: shape=(3, 4), dtype=int32, numpy=\n",
       "array([[0, 1, 2, 3],\n",
       "       [4, 5, 5, 5],\n",
       "       [5, 5, 5, 5]])>"
      ]
     },
     "execution_count": 6,
     "metadata": {},
     "output_type": "execute_result"
    }
   ],
   "source": [
    "tf.minimum(a, 5) # 使所有元素不大于5"
   ]
  },
  {
   "cell_type": "code",
   "execution_count": 9,
   "id": "181b7ce5-be91-4a7f-87fc-3a4b8c4baec6",
   "metadata": {},
   "outputs": [
    {
     "data": {
      "text/plain": [
       "<tf.Tensor: shape=(3, 4), dtype=int32, numpy=\n",
       "array([[2, 2, 2, 3],\n",
       "       [4, 5, 5, 5],\n",
       "       [5, 5, 5, 5]])>"
      ]
     },
     "execution_count": 9,
     "metadata": {},
     "output_type": "execute_result"
    }
   ],
   "source": [
    "tf.clip_by_value(a, 2, 5) # 使所有元素都在这个范围内"
   ]
  },
  {
   "cell_type": "markdown",
   "id": "6cc064ea-f6ee-4ba8-8578-a7ebee5bfd1a",
   "metadata": {},
   "source": [
    "## 12.2 tf.nn.relu"
   ]
  },
  {
   "cell_type": "code",
   "execution_count": 10,
   "id": "1720ac0b-e23a-4c6d-83d2-ec7bf0bb8963",
   "metadata": {},
   "outputs": [
    {
     "data": {
      "text/plain": [
       "<tf.Tensor: shape=(3, 3), dtype=float32, numpy=\n",
       "array([[ 0.07020266,  0.11454783, -0.18235616],\n",
       "       [-0.5748097 ,  0.75478715,  0.44480723],\n",
       "       [-0.8876979 , -0.91257536,  0.7949659 ]], dtype=float32)>"
      ]
     },
     "execution_count": 10,
     "metadata": {},
     "output_type": "execute_result"
    }
   ],
   "source": [
    "a = tf.random.normal([3, 3])\n",
    "a"
   ]
  },
  {
   "cell_type": "code",
   "execution_count": 11,
   "id": "7d970623-e7e2-4b8c-b3fc-ef93270a4c07",
   "metadata": {},
   "outputs": [
    {
     "data": {
      "text/plain": [
       "<tf.Tensor: shape=(3, 3), dtype=float32, numpy=\n",
       "array([[0.07020266, 0.11454783, 0.        ],\n",
       "       [0.        , 0.75478715, 0.44480723],\n",
       "       [0.        , 0.        , 0.7949659 ]], dtype=float32)>"
      ]
     },
     "execution_count": 11,
     "metadata": {},
     "output_type": "execute_result"
    }
   ],
   "source": [
    "tf.nn.relu(a)"
   ]
  },
  {
   "cell_type": "markdown",
   "id": "b586fd4b-712d-44ea-9340-6665bac88ffc",
   "metadata": {
    "tags": []
   },
   "source": [
    "## 12.3 tf.clip_by_norm"
   ]
  },
  {
   "cell_type": "code",
   "execution_count": 18,
   "id": "3e707710-d5dd-4339-862d-70af115b85c8",
   "metadata": {},
   "outputs": [
    {
     "data": {
      "text/plain": [
       "<tf.Tensor: shape=(3, 3), dtype=float32, numpy=\n",
       "array([[ 7.658079, 10.538096,  8.631984],\n",
       "       [ 8.988287, 10.62752 ,  8.963372],\n",
       "       [ 9.352146, 10.704467,  9.311233]], dtype=float32)>"
      ]
     },
     "execution_count": 18,
     "metadata": {},
     "output_type": "execute_result"
    }
   ],
   "source": [
    "a = tf.random.normal([3, 3], mean=10)\n",
    "a"
   ]
  },
  {
   "cell_type": "code",
   "execution_count": 20,
   "id": "89cdd0d7-9fa5-4dfd-a4d1-b7c1554f8870",
   "metadata": {},
   "outputs": [
    {
     "data": {
      "text/plain": [
       "<tf.Tensor: shape=(), dtype=float32, numpy=28.408302>"
      ]
     },
     "execution_count": 20,
     "metadata": {},
     "output_type": "execute_result"
    }
   ],
   "source": [
    "tf.norm(a)"
   ]
  },
  {
   "cell_type": "code",
   "execution_count": 22,
   "id": "46a9fae9-2b1c-4a71-91f6-ee3581a53ab2",
   "metadata": {},
   "outputs": [
    {
     "data": {
      "text/plain": [
       "<tf.Tensor: shape=(3, 3), dtype=float32, numpy=\n",
       "array([[0.26957187, 0.3709513 , 0.30385426],\n",
       "       [0.31639647, 0.37409908, 0.31551945],\n",
       "       [0.32920468, 0.3768077 , 0.32776448]], dtype=float32)>"
      ]
     },
     "execution_count": 22,
     "metadata": {},
     "output_type": "execute_result"
    }
   ],
   "source": [
    "aa = tf.clip_by_norm(a, 1) # 将a的2范数缩放到1，这种缩放不会改变向量的方向\n",
    "aa"
   ]
  },
  {
   "cell_type": "code",
   "execution_count": 23,
   "id": "19186bd2-4971-4f6a-8bef-1ef1b91bb120",
   "metadata": {},
   "outputs": [
    {
     "data": {
      "text/plain": [
       "<tf.Tensor: shape=(), dtype=float32, numpy=0.99999994>"
      ]
     },
     "execution_count": 23,
     "metadata": {},
     "output_type": "execute_result"
    }
   ],
   "source": [
    "tf.norm(aa)"
   ]
  },
  {
   "cell_type": "code",
   "execution_count": null,
   "id": "df4e8fe6-d50b-420a-a380-d793a560a006",
   "metadata": {},
   "outputs": [],
   "source": []
  }
 ],
 "metadata": {
  "kernelspec": {
   "display_name": "Python 3 (ipykernel)",
   "language": "python",
   "name": "python3"
  },
  "language_info": {
   "codemirror_mode": {
    "name": "ipython",
    "version": 3
   },
   "file_extension": ".py",
   "mimetype": "text/x-python",
   "name": "python",
   "nbconvert_exporter": "python",
   "pygments_lexer": "ipython3",
   "version": "3.9.9"
  }
 },
 "nbformat": 4,
 "nbformat_minor": 5
}
