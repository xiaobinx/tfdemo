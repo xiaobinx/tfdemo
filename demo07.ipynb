{
 "cells": [
  {
   "cell_type": "code",
   "execution_count": 1,
   "id": "cf6a93ba-8d94-4451-8233-fc2e7dda47c4",
   "metadata": {},
   "outputs": [],
   "source": [
    "import os\n",
    "\n",
    "import tensorflow as tf\n",
    "from tensorflow import keras\n",
    "from tensorflow.keras import datasets, layers, optimizers\n",
    "\n",
    "os.environ[\"TF_CPP_MIN_LOG_LEVEL\"] = \"2\""
   ]
  },
  {
   "cell_type": "markdown",
   "id": "20e86e69-e7a0-44cd-b0aa-f9592af370cd",
   "metadata": {},
   "source": [
    "## 9.1 tf.norm 范数"
   ]
  },
  {
   "cell_type": "code",
   "execution_count": 2,
   "id": "309ff5c2-1bdc-4760-9d48-8d5288d9f157",
   "metadata": {},
   "outputs": [],
   "source": [
    "a = tf.ones([2, 2])"
   ]
  },
  {
   "cell_type": "code",
   "execution_count": 5,
   "id": "d5502c22-1059-4a68-8d8b-9f7547ed90d4",
   "metadata": {},
   "outputs": [
    {
     "data": {
      "text/plain": [
       "<tf.Tensor: shape=(), dtype=float32, numpy=2.0>"
      ]
     },
     "execution_count": 5,
     "metadata": {},
     "output_type": "execute_result"
    }
   ],
   "source": [
    "tf.norm(a) # 2范数"
   ]
  },
  {
   "cell_type": "code",
   "execution_count": 6,
   "id": "4e0c8939-ff9f-42e2-89f5-ede5eda0e3b3",
   "metadata": {},
   "outputs": [
    {
     "data": {
      "text/plain": [
       "<tf.Tensor: shape=(), dtype=float32, numpy=2.0>"
      ]
     },
     "execution_count": 6,
     "metadata": {},
     "output_type": "execute_result"
    }
   ],
   "source": [
    "tf.sqrt(tf.reduce_sum(tf.square(a)))"
   ]
  },
  {
   "cell_type": "code",
   "execution_count": 7,
   "id": "76ffa9ef-8fcc-4a33-8492-1b5453cedc54",
   "metadata": {},
   "outputs": [],
   "source": [
    "a = tf.ones([4, 28, 28, 3])"
   ]
  },
  {
   "cell_type": "code",
   "execution_count": 8,
   "id": "3de19f62-0e89-4e82-aff0-1da279500755",
   "metadata": {},
   "outputs": [
    {
     "data": {
      "text/plain": [
       "<tf.Tensor: shape=(), dtype=float32, numpy=96.99484>"
      ]
     },
     "execution_count": 8,
     "metadata": {},
     "output_type": "execute_result"
    }
   ],
   "source": [
    "tf.norm(a) # 2范数"
   ]
  },
  {
   "cell_type": "code",
   "execution_count": 9,
   "id": "a1aa0363-7c4c-4f5a-86c3-9620cd2d493a",
   "metadata": {},
   "outputs": [
    {
     "data": {
      "text/plain": [
       "<tf.Tensor: shape=(), dtype=float32, numpy=96.99484>"
      ]
     },
     "execution_count": 9,
     "metadata": {},
     "output_type": "execute_result"
    }
   ],
   "source": [
    "tf.sqrt(tf.reduce_sum(tf.square(a)))"
   ]
  },
  {
   "cell_type": "code",
   "execution_count": 19,
   "id": "2d0317c9-71c1-427b-a732-7b567e17af90",
   "metadata": {},
   "outputs": [
    {
     "data": {
      "text/plain": [
       "<tf.Tensor: shape=(2,), dtype=float32, numpy=array([2.       , 3.1622777], dtype=float32)>"
      ]
     },
     "execution_count": 19,
     "metadata": {},
     "output_type": "execute_result"
    }
   ],
   "source": [
    "a =tf.cast(tf.reshape(tf.range(4), (2, 2)), tf.float32)\n",
    "tf.norm(a, ord=2, axis=0) # 2范数"
   ]
  },
  {
   "cell_type": "code",
   "execution_count": 20,
   "id": "000c111e-620c-43c3-af6c-7ba855964133",
   "metadata": {},
   "outputs": [
    {
     "data": {
      "text/plain": [
       "<tf.Tensor: shape=(), dtype=float32, numpy=6.0>"
      ]
     },
     "execution_count": 20,
     "metadata": {},
     "output_type": "execute_result"
    }
   ],
   "source": [
    "a =tf.cast(tf.reshape(tf.range(4), (2, 2)), tf.float32)\n",
    "tf.norm(a, ord=1) # 1范数"
   ]
  },
  {
   "cell_type": "markdown",
   "id": "329904ab-85fd-4036-a3db-8a7a8f6ddd3a",
   "metadata": {},
   "source": [
    "## 9.2 tf.reduce_min/max/mean"
   ]
  },
  {
   "cell_type": "code",
   "execution_count": 22,
   "id": "b19bb6ac-2bf9-457f-9b32-a9abfd7b718c",
   "metadata": {},
   "outputs": [],
   "source": [
    "a=tf.random.normal([4, 10])"
   ]
  },
  {
   "cell_type": "code",
   "execution_count": 23,
   "id": "90fc54b1-0bf8-4157-a6c5-f6538eb0b692",
   "metadata": {},
   "outputs": [
    {
     "data": {
      "text/plain": [
       "(<tf.Tensor: shape=(), dtype=float32, numpy=-2.4114013>,\n",
       " <tf.Tensor: shape=(), dtype=float32, numpy=1.6764292>,\n",
       " <tf.Tensor: shape=(), dtype=float32, numpy=-0.15331738>)"
      ]
     },
     "execution_count": 23,
     "metadata": {},
     "output_type": "execute_result"
    }
   ],
   "source": [
    "tf.reduce_min(a), tf.reduce_max(a), tf.reduce_mean(a)"
   ]
  },
  {
   "cell_type": "code",
   "execution_count": 24,
   "id": "438009cb-a35b-4c9d-b787-ba0f8f471bfa",
   "metadata": {},
   "outputs": [
    {
     "data": {
      "text/plain": [
       "(<tf.Tensor: shape=(10,), dtype=float32, numpy=\n",
       " array([ 0.13398157, -0.52785397, -1.3379987 , -0.83471185, -0.92672974,\n",
       "        -1.8742781 , -2.4114013 , -2.296062  , -0.7483747 , -1.465123  ],\n",
       "       dtype=float32)>,\n",
       " <tf.Tensor: shape=(10,), dtype=float32, numpy=\n",
       " array([ 1.1284257 ,  0.7317023 ,  0.00485165,  0.7638327 ,  0.471395  ,\n",
       "         1.632448  , -1.0225589 ,  0.6605299 ,  1.5836227 ,  1.6764292 ],\n",
       "       dtype=float32)>,\n",
       " <tf.Tensor: shape=(10,), dtype=float32, numpy=\n",
       " array([ 0.5026103 ,  0.10862198, -0.5793894 ,  0.31661952, -0.19494459,\n",
       "        -0.20906633, -1.5454205 , -0.5295315 ,  0.6991471 , -0.10182035],\n",
       "       dtype=float32)>)"
      ]
     },
     "execution_count": 24,
     "metadata": {},
     "output_type": "execute_result"
    }
   ],
   "source": [
    "tf.reduce_min(a, axis=0), tf.reduce_max(a, axis=0), tf.reduce_mean(a, axis=0)"
   ]
  },
  {
   "cell_type": "code",
   "execution_count": 25,
   "id": "81b743bd-d6b6-46b3-96c8-3a873d8d120e",
   "metadata": {},
   "outputs": [
    {
     "data": {
      "text/plain": [
       "(<tf.Tensor: shape=(4,), dtype=float32, numpy=array([-2.4114013, -1.7098228, -1.8742781, -1.465123 ], dtype=float32)>,\n",
       " <tf.Tensor: shape=(4,), dtype=float32, numpy=array([1.6764292, 1.0600609, 1.5836227, 1.632448 ], dtype=float32)>,\n",
       " <tf.Tensor: shape=(4,), dtype=float32, numpy=array([-0.46801162, -0.42890015,  0.16559246,  0.11804976], dtype=float32)>)"
      ]
     },
     "execution_count": 25,
     "metadata": {},
     "output_type": "execute_result"
    }
   ],
   "source": [
    "tf.reduce_min(a, axis=1), tf.reduce_max(a, axis=1), tf.reduce_mean(a, axis=1)"
   ]
  },
  {
   "cell_type": "markdown",
   "id": "75d21408-cc78-424f-b396-00221afbe49e",
   "metadata": {},
   "source": [
    "## 9.2 tf.argmax/argmin\n",
    "\n",
    "最大值/最小值的位置"
   ]
  },
  {
   "cell_type": "code",
   "execution_count": 81,
   "id": "a149b152-ef82-4061-b1ce-0d8218a8c16b",
   "metadata": {},
   "outputs": [],
   "source": [
    "a=tf.random.normal([4, 3])"
   ]
  },
  {
   "cell_type": "code",
   "execution_count": 82,
   "id": "a79a0fac-663d-441a-bb4c-3dc5593fe34e",
   "metadata": {},
   "outputs": [],
   "source": [
    "c = tf.argmax(a, axis=0)"
   ]
  },
  {
   "cell_type": "code",
   "execution_count": 83,
   "id": "ad184ec4-715d-403e-b735-49e068290f7e",
   "metadata": {},
   "outputs": [
    {
     "data": {
      "text/plain": [
       "(<tf.Tensor: shape=(4, 3), dtype=float32, numpy=\n",
       " array([[-0.83412164, -0.5170489 , -0.49326763],\n",
       "        [ 0.08761435,  0.05244758,  0.59934646],\n",
       "        [ 1.1180947 , -0.59439176, -0.17449789],\n",
       "        [ 1.0198526 ,  1.3675216 , -0.9054129 ]], dtype=float32)>,\n",
       " <tf.Tensor: shape=(3,), dtype=int64, numpy=array([2, 3, 1], dtype=int64)>)"
      ]
     },
     "execution_count": 83,
     "metadata": {},
     "output_type": "execute_result"
    }
   ],
   "source": [
    "a, c"
   ]
  },
  {
   "cell_type": "markdown",
   "id": "92004f61-3a4a-4e4e-be74-ca2c6e086fcc",
   "metadata": {},
   "source": [
    "## 9.3 tf.equal\n",
    "\n",
    "比较"
   ]
  },
  {
   "cell_type": "code",
   "execution_count": 89,
   "id": "a8b2bf4a-11c7-405c-8467-740d119523f6",
   "metadata": {},
   "outputs": [],
   "source": [
    "a = tf.constant([1, 1, 3, 2, 5])\n",
    "b = tf.range(5)"
   ]
  },
  {
   "cell_type": "code",
   "execution_count": 92,
   "id": "3bcbd281-ee2f-417e-a2e0-104a6bd04941",
   "metadata": {},
   "outputs": [
    {
     "data": {
      "text/plain": [
       "<tf.Tensor: shape=(5,), dtype=bool, numpy=array([False,  True, False, False, False])>"
      ]
     },
     "execution_count": 92,
     "metadata": {},
     "output_type": "execute_result"
    }
   ],
   "source": [
    "res = tf.equal(a, b) \n",
    "res"
   ]
  },
  {
   "cell_type": "code",
   "execution_count": 94,
   "id": "371ac712-4ad8-4077-b169-514df26ae217",
   "metadata": {},
   "outputs": [
    {
     "data": {
      "text/plain": [
       "<tf.Tensor: shape=(), dtype=int32, numpy=1>"
      ]
     },
     "execution_count": 94,
     "metadata": {},
     "output_type": "execute_result"
    }
   ],
   "source": [
    "same = tf.reduce_sum(tf.cast(res, dtype=tf.int32))\n",
    "same"
   ]
  },
  {
   "cell_type": "code",
   "execution_count": 96,
   "id": "7fee1ff4-25bb-4c21-9604-4dfcec76c4d3",
   "metadata": {},
   "outputs": [
    {
     "data": {
      "text/plain": [
       "<tf.Tensor: shape=(), dtype=float64, numpy=0.2>"
      ]
     },
     "execution_count": 96,
     "metadata": {},
     "output_type": "execute_result"
    }
   ],
   "source": [
    "same/b.shape[0]"
   ]
  },
  {
   "cell_type": "code",
   "execution_count": 98,
   "id": "b886170b-d797-4afd-a6bf-5d7887052491",
   "metadata": {},
   "outputs": [],
   "source": [
    "a = tf.constant([\n",
    "    [0.1, 0.2, 0.7],\n",
    "    [0.9, 0.05, 0.05]\n",
    "])"
   ]
  },
  {
   "cell_type": "code",
   "execution_count": 100,
   "id": "bf1ee606-be80-4484-9486-3bba3ef1d090",
   "metadata": {},
   "outputs": [
    {
     "data": {
      "text/plain": [
       "<tf.Tensor: shape=(2,), dtype=int32, numpy=array([2, 0])>"
      ]
     },
     "execution_count": 100,
     "metadata": {},
     "output_type": "execute_result"
    }
   ],
   "source": [
    "pred = tf.cast(tf.argmax(a, axis=1), dtype=tf.int32)\n",
    "pred"
   ]
  },
  {
   "cell_type": "code",
   "execution_count": 101,
   "id": "76af818d-03fe-4e8f-9cf2-631f58a3526d",
   "metadata": {},
   "outputs": [],
   "source": [
    "y = tf.constant([2, 1])"
   ]
  },
  {
   "cell_type": "code",
   "execution_count": 104,
   "id": "8c336c00-71f7-4ea6-ac70-d0fadffae9c3",
   "metadata": {},
   "outputs": [
    {
     "data": {
      "text/plain": [
       "<tf.Tensor: shape=(), dtype=int32, numpy=1>"
      ]
     },
     "execution_count": 104,
     "metadata": {},
     "output_type": "execute_result"
    }
   ],
   "source": [
    "correct = tf.reduce_sum(tf.cast(tf.equal(y, pred), dtype=tf.int32))\n",
    "correct"
   ]
  },
  {
   "cell_type": "code",
   "execution_count": 105,
   "id": "87a1e92f-f2ee-4ae0-9fd5-5b58f88c58f2",
   "metadata": {},
   "outputs": [
    {
     "data": {
      "text/plain": [
       "<tf.Tensor: shape=(), dtype=float64, numpy=0.5>"
      ]
     },
     "execution_count": 105,
     "metadata": {},
     "output_type": "execute_result"
    }
   ],
   "source": [
    "correct/y.shape[0]"
   ]
  },
  {
   "cell_type": "markdown",
   "id": "5e8a2718-c53b-45cf-9dab-facf32cdbf14",
   "metadata": {},
   "source": [
    "## 9.4 tf.unique\n",
    "\n",
    "去重"
   ]
  },
  {
   "cell_type": "code",
   "execution_count": 106,
   "id": "75720dda-18d1-482d-967c-00a71e0474d1",
   "metadata": {},
   "outputs": [],
   "source": [
    "a = tf.range(5)"
   ]
  },
  {
   "cell_type": "code",
   "execution_count": 107,
   "id": "e52fd4e4-bbaf-4b7b-81d1-2b6e87cad417",
   "metadata": {},
   "outputs": [
    {
     "data": {
      "text/plain": [
       "Unique(y=<tf.Tensor: shape=(5,), dtype=int32, numpy=array([0, 1, 2, 3, 4])>, idx=<tf.Tensor: shape=(5,), dtype=int32, numpy=array([0, 1, 2, 3, 4])>)"
      ]
     },
     "execution_count": 107,
     "metadata": {},
     "output_type": "execute_result"
    }
   ],
   "source": [
    "tf.unique(a)"
   ]
  },
  {
   "cell_type": "code",
   "execution_count": 112,
   "id": "df08ffba-c5c3-4692-ba61-869c272cb970",
   "metadata": {},
   "outputs": [
    {
     "data": {
      "text/plain": [
       "(<tf.Tensor: shape=(3,), dtype=int32, numpy=array([3, 2, 1])>,\n",
       " <tf.Tensor: shape=(5,), dtype=int32, numpy=array([0, 1, 1, 0, 2])>)"
      ]
     },
     "execution_count": 112,
     "metadata": {},
     "output_type": "execute_result"
    }
   ],
   "source": [
    "a = tf.constant([3, 2, 2, 3, 1])\n",
    "unique, index = tf.unique(a)\n",
    "unique, index # unique为不重复元素，index为不重复元素在原Tensor的下标"
   ]
  },
  {
   "cell_type": "code",
   "execution_count": 114,
   "id": "7316015d-0a36-450f-bd84-adf76173c4c1",
   "metadata": {},
   "outputs": [
    {
     "data": {
      "text/plain": [
       "<tf.Tensor: shape=(5,), dtype=int32, numpy=array([3, 2, 2, 3, 1])>"
      ]
     },
     "execution_count": 114,
     "metadata": {},
     "output_type": "execute_result"
    }
   ],
   "source": [
    "tf.gather(unique, index) # 可以使用tf.gather来还原"
   ]
  },
  {
   "cell_type": "code",
   "execution_count": null,
   "id": "c9eca5b2-5556-4bf8-ab94-1571839634c5",
   "metadata": {},
   "outputs": [],
   "source": []
  }
 ],
 "metadata": {
  "kernelspec": {
   "display_name": "Python 3 (ipykernel)",
   "language": "python",
   "name": "python3"
  },
  "language_info": {
   "codemirror_mode": {
    "name": "ipython",
    "version": 3
   },
   "file_extension": ".py",
   "mimetype": "text/x-python",
   "name": "python",
   "nbconvert_exporter": "python",
   "pygments_lexer": "ipython3",
   "version": "3.9.9"
  }
 },
 "nbformat": 4,
 "nbformat_minor": 5
}
