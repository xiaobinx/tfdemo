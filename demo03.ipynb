{
 "cells": [
  {
   "cell_type": "code",
   "execution_count": 1,
   "id": "ab2b5d4a-8b86-4a2f-b85e-2177cef12d16",
   "metadata": {},
   "outputs": [],
   "source": [
    "import os\n",
    "\n",
    "import tensorflow as tf\n",
    "from tensorflow import keras\n",
    "from tensorflow.keras import datasets, layers, optimizers\n",
    "\n",
    "os.environ[\"TF_CPP_MIN_LOG_LEVEL\"] = \"2\""
   ]
  },
  {
   "cell_type": "code",
   "execution_count": 2,
   "id": "188d96b7-4d5f-468b-a14e-35e5c2d0f990",
   "metadata": {},
   "outputs": [
    {
     "data": {
      "text/plain": [
       "TensorShape([4, 784, 3])"
      ]
     },
     "execution_count": 2,
     "metadata": {},
     "output_type": "execute_result"
    }
   ],
   "source": [
    "a = tf.random.normal([4, 28, 28, 3])\n",
    "tf.reshape(a, [4, 784, 3]).shape"
   ]
  },
  {
   "cell_type": "code",
   "execution_count": 3,
   "id": "fb02ce4f-5723-415f-8a08-d44fcbf58c7d",
   "metadata": {},
   "outputs": [
    {
     "data": {
      "text/plain": [
       "TensorShape([4, 784, 3])"
      ]
     },
     "execution_count": 3,
     "metadata": {},
     "output_type": "execute_result"
    }
   ],
   "source": [
    "tf.reshape(a, [4, -1, 3]).shape  # -1会自动计算 4*28*28*3/4/3 只能有一个-1"
   ]
  },
  {
   "cell_type": "code",
   "execution_count": 4,
   "id": "ce706b5d-ee37-4101-a6ad-88f25d56d53b",
   "metadata": {},
   "outputs": [
    {
     "data": {
      "text/plain": [
       "TensorShape([4, 2352])"
      ]
     },
     "execution_count": 4,
     "metadata": {},
     "output_type": "execute_result"
    }
   ],
   "source": [
    "tf.reshape(a, [4, 784 * 3]).shape"
   ]
  },
  {
   "cell_type": "code",
   "execution_count": 5,
   "id": "92dbfe0f-978c-4a02-a258-c0d8da3b164a",
   "metadata": {},
   "outputs": [
    {
     "data": {
      "text/plain": [
       "TensorShape([4, 2352])"
      ]
     },
     "execution_count": 5,
     "metadata": {},
     "output_type": "execute_result"
    }
   ],
   "source": [
    "tf.reshape(a, [4, -1]).shape"
   ]
  },
  {
   "cell_type": "code",
   "execution_count": 6,
   "id": "7d7dd743-9823-4550-ac1c-622e6c4c96f7",
   "metadata": {},
   "outputs": [
    {
     "data": {
      "text/plain": [
       "<tf.Tensor: shape=(3, 4), dtype=int32, numpy=\n",
       "array([[ 0,  1,  2,  3],\n",
       "       [ 4,  5,  6,  7],\n",
       "       [ 8,  9, 10, 11]])>"
      ]
     },
     "execution_count": 6,
     "metadata": {},
     "output_type": "execute_result"
    }
   ],
   "source": [
    "a = tf.reshape(tf.range(3 * 4), [3, 4])\n",
    "a"
   ]
  },
  {
   "cell_type": "code",
   "execution_count": 7,
   "id": "29d54db3-0eb6-4131-8cc9-8d61bb5b72a6",
   "metadata": {},
   "outputs": [
    {
     "data": {
      "text/plain": [
       "<tf.Tensor: shape=(4, 3), dtype=int32, numpy=\n",
       "array([[ 0,  4,  8],\n",
       "       [ 1,  5,  9],\n",
       "       [ 2,  6, 10],\n",
       "       [ 3,  7, 11]])>"
      ]
     },
     "execution_count": 7,
     "metadata": {},
     "output_type": "execute_result"
    }
   ],
   "source": [
    "tf.transpose(a)"
   ]
  },
  {
   "cell_type": "code",
   "execution_count": 8,
   "id": "6f2e46ec-132e-4bdf-bf8a-c5935933929d",
   "metadata": {},
   "outputs": [],
   "source": [
    "a = tf.random.normal([4, 3, 2, 1])"
   ]
  },
  {
   "cell_type": "code",
   "execution_count": 9,
   "id": "6212980b-88ef-411d-80f0-9db3e09fe958",
   "metadata": {},
   "outputs": [
    {
     "data": {
      "text/plain": [
       "TensorShape([1, 2, 3, 4])"
      ]
     },
     "execution_count": 9,
     "metadata": {},
     "output_type": "execute_result"
    }
   ],
   "source": [
    "tf.transpose(a).shape"
   ]
  },
  {
   "cell_type": "code",
   "execution_count": 10,
   "id": "fbe2aeaa-e401-4932-b769-5b3ffad36baf",
   "metadata": {},
   "outputs": [
    {
     "data": {
      "text/plain": [
       "TensorShape([4, 3, 1, 2])"
      ]
     },
     "execution_count": 10,
     "metadata": {},
     "output_type": "execute_result"
    }
   ],
   "source": [
    "tf.transpose(a, perm=[0, 1, 3, 2]).shape # 仅2，3维度交换"
   ]
  },
  {
   "cell_type": "code",
   "execution_count": 11,
   "id": "a6a069d8-4216-4a73-9e24-d750cbcf9d20",
   "metadata": {},
   "outputs": [],
   "source": [
    "a = tf.random.normal([4, 28, 28, 3]) # b, h, w, c"
   ]
  },
  {
   "cell_type": "code",
   "execution_count": 12,
   "id": "e8a3430c-2239-4bfc-a100-5e814de101c9",
   "metadata": {},
   "outputs": [
    {
     "data": {
      "text/plain": [
       "TensorShape([4, 3, 28, 28])"
      ]
     },
     "execution_count": 12,
     "metadata": {},
     "output_type": "execute_result"
    }
   ],
   "source": [
    "tf.transpose(a, perm=[0, 3, 1, 2]).shape # b, c, h, w"
   ]
  },
  {
   "cell_type": "code",
   "execution_count": 13,
   "id": "4c9c2ea6-4ca3-48d8-b13c-9e336b08e902",
   "metadata": {},
   "outputs": [],
   "source": [
    "a = tf.random.normal([4, 35, 8])"
   ]
  },
  {
   "cell_type": "code",
   "execution_count": 14,
   "id": "76bf65b4-6bc7-43ac-be56-5b6657855052",
   "metadata": {},
   "outputs": [
    {
     "data": {
      "text/plain": [
       "TensorShape([1, 4, 35, 8])"
      ]
     },
     "execution_count": 14,
     "metadata": {},
     "output_type": "execute_result"
    }
   ],
   "source": [
    "tf.expand_dims(a, axis=0).shape # 在0号轴前增加一个维度"
   ]
  },
  {
   "cell_type": "code",
   "execution_count": 15,
   "id": "569d1e67-b994-4096-866d-5caff9efb896",
   "metadata": {},
   "outputs": [
    {
     "data": {
      "text/plain": [
       "TensorShape([4, 35, 8, 1])"
      ]
     },
     "execution_count": 15,
     "metadata": {},
     "output_type": "execute_result"
    }
   ],
   "source": [
    "tf.expand_dims(a, axis=3).shape # 在3号轴前增加一个维度"
   ]
  },
  {
   "cell_type": "code",
   "execution_count": 16,
   "id": "b69c0245-5489-41da-8930-82c1bad9d360",
   "metadata": {},
   "outputs": [
    {
     "data": {
      "text/plain": [
       "TensorShape([4, 35, 8, 1])"
      ]
     },
     "execution_count": 16,
     "metadata": {},
     "output_type": "execute_result"
    }
   ],
   "source": [
    "tf.expand_dims(a, axis=-1).shape # 在-1号轴后增加一个维度"
   ]
  },
  {
   "cell_type": "code",
   "execution_count": 17,
   "id": "137ec564-80fd-4ef2-b172-194bbe301b46",
   "metadata": {},
   "outputs": [],
   "source": [
    "a = tf.random.normal([4, 35, 8])"
   ]
  },
  {
   "cell_type": "code",
   "execution_count": 18,
   "id": "e1b6b970-2ed6-4425-98e8-9a30e339116d",
   "metadata": {},
   "outputs": [],
   "source": [
    "a = tf.ones([1, 2, 1, 1, 3])"
   ]
  },
  {
   "cell_type": "code",
   "execution_count": 19,
   "id": "593d071e-1ca0-4fd9-a2a9-f3e43eecb8fa",
   "metadata": {},
   "outputs": [
    {
     "data": {
      "text/plain": [
       "TensorShape([2, 3])"
      ]
     },
     "execution_count": 19,
     "metadata": {},
     "output_type": "execute_result"
    }
   ],
   "source": [
    "tf.squeeze(a).shape # 去除所有轴维度为1的维度"
   ]
  },
  {
   "cell_type": "code",
   "execution_count": 20,
   "id": "985eaca1-6553-4220-a826-35fba95da0a6",
   "metadata": {},
   "outputs": [
    {
     "data": {
      "text/plain": [
       "TensorShape([1, 2, 1, 3])"
      ]
     },
     "execution_count": 20,
     "metadata": {},
     "output_type": "execute_result"
    }
   ],
   "source": [
    "tf.squeeze(a, axis=-2).shape # 除第-2轴维度为1的维度"
   ]
  },
  {
   "cell_type": "code",
   "execution_count": 21,
   "id": "c20fd487-c5e0-4d99-913a-fb9002cf57f6",
   "metadata": {},
   "outputs": [
    {
     "data": {
      "text/plain": [
       "<tf.Tensor: shape=(4, 3), dtype=int32, numpy=\n",
       "array([[ 0,  1,  2],\n",
       "       [10, 11, 12],\n",
       "       [20, 21, 22],\n",
       "       [30, 31, 32]])>"
      ]
     },
     "execution_count": 21,
     "metadata": {},
     "output_type": "execute_result"
    }
   ],
   "source": [
    "tf.constant([\n",
    "    [0, 0, 0],\n",
    "    [10, 10, 10],\n",
    "    [20, 20, 20],\n",
    "    [30, 30, 30],\n",
    "]) + tf.constant([0, 1, 2])"
   ]
  },
  {
   "cell_type": "code",
   "execution_count": 22,
   "id": "1ea15b48-f63b-4cea-9cbe-c6273f192201",
   "metadata": {},
   "outputs": [
    {
     "data": {
      "text/plain": [
       "<tf.Tensor: shape=(4, 3), dtype=int32, numpy=\n",
       "array([[ 0,  1,  2],\n",
       "       [10, 11, 12],\n",
       "       [20, 21, 22],\n",
       "       [30, 31, 32]])>"
      ]
     },
     "execution_count": 22,
     "metadata": {},
     "output_type": "execute_result"
    }
   ],
   "source": [
    "tf.constant([[0], [10], [20], [30]]) + tf.constant([0, 1, 2])"
   ]
  },
  {
   "cell_type": "code",
   "execution_count": null,
   "id": "81cca1e9-6536-4d57-9580-280382fb0679",
   "metadata": {},
   "outputs": [],
   "source": []
  }
 ],
 "metadata": {
  "kernelspec": {
   "display_name": "Python 3 (ipykernel)",
   "language": "python",
   "name": "python3"
  },
  "language_info": {
   "codemirror_mode": {
    "name": "ipython",
    "version": 3
   },
   "file_extension": ".py",
   "mimetype": "text/x-python",
   "name": "python",
   "nbconvert_exporter": "python",
   "pygments_lexer": "ipython3",
   "version": "3.9.9"
  }
 },
 "nbformat": 4,
 "nbformat_minor": 5
}
