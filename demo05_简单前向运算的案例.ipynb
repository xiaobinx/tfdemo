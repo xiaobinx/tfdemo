{
 "cells": [
  {
   "cell_type": "code",
   "execution_count": 1,
   "id": "26072702-53fe-40b5-b4ee-7228fbf20ea8",
   "metadata": {},
   "outputs": [],
   "source": [
    "import os\n",
    "\n",
    "import tensorflow as tf\n",
    "from tensorflow import keras\n",
    "from tensorflow.keras import datasets, layers, optimizers\n",
    "\n",
    "os.environ[\"TF_CPP_MIN_LOG_LEVEL\"] = \"2\""
   ]
  },
  {
   "cell_type": "code",
   "execution_count": 2,
   "id": "18605dcc-313e-472a-9108-ab995c9b69d4",
   "metadata": {},
   "outputs": [],
   "source": [
    "(x, y), (x_test, y_test) = datasets.mnist.load_data()"
   ]
  },
  {
   "cell_type": "code",
   "execution_count": 3,
   "id": "404d359a-e477-4cbb-8882-605e8f25bec3",
   "metadata": {},
   "outputs": [
    {
     "data": {
      "text/plain": [
       "(TensorShape([60000, 28, 28]),\n",
       " TensorShape([60000]),\n",
       " TensorShape([10000, 28, 28]),\n",
       " TensorShape([10000]))"
      ]
     },
     "execution_count": 3,
     "metadata": {},
     "output_type": "execute_result"
    }
   ],
   "source": [
    "x = tf.convert_to_tensor(x, dtype=tf.float32) / 255\n",
    "y = tf.convert_to_tensor(y, dtype=tf.uint8)\n",
    "# y = tf.one_hot(y, depth=10)\n",
    "\n",
    "x_test = tf.convert_to_tensor(x_test, dtype=tf.float32) / 255\n",
    "y_test = tf.convert_to_tensor(y_test, dtype=tf.uint8)\n",
    "# y_test = tf.one_hot(y_test, depth=10)\n",
    "\n",
    "x.shape, y.shape, x_test.shape, y_test.shape"
   ]
  },
  {
   "cell_type": "code",
   "execution_count": 4,
   "id": "7f7c8319-ee2f-487f-b702-e2544f1d75c3",
   "metadata": {},
   "outputs": [],
   "source": [
    "train_dataset = tf.data.Dataset.from_tensor_slices((x, y)).batch(200)\n",
    "test_dataset = tf.data.Dataset.from_tensor_slices((x_test, y_test)).batch(200)"
   ]
  },
  {
   "cell_type": "code",
   "execution_count": 5,
   "id": "a0617d0a-f08e-4695-9f03-2c67a709d082",
   "metadata": {},
   "outputs": [],
   "source": [
    "W1 = tf.Variable(tf.random.truncated_normal([784, 256], stddev=0.1))\n",
    "B1 = tf.Variable(tf.random.truncated_normal([256], stddev=0.1))\n",
    "W2 = tf.Variable(tf.random.truncated_normal([256, 128], stddev=0.1))\n",
    "B2 = tf.Variable(tf.random.truncated_normal([128], stddev=0.1))\n",
    "W3 = tf.Variable(tf.random.truncated_normal([128, 10], stddev=0.1))\n",
    "B3 = tf.Variable(tf.random.truncated_normal([10], stddev=0.1))\n",
    "lr = 1e-3"
   ]
  },
  {
   "cell_type": "code",
   "execution_count": 50,
   "id": "f3717080-da35-48e6-96e6-7706c7a79ef7",
   "metadata": {},
   "outputs": [],
   "source": [
    "def model(x):\n",
    "    yp = x @ W1 + B1\n",
    "    yp = tf.nn.relu(yp)\n",
    "    yp = yp @ W2 + B2\n",
    "    yp = tf.nn.relu(yp)\n",
    "    yp = yp @ W3 + B3\n",
    "    yp = tf.nn.softmax(yp, axis=1)\n",
    "    return yp\n",
    "\n",
    "def update_variable(v: tf.Variable, grad):\n",
    "    v.assign_sub(lr * grad)\n",
    "    \n",
    "def update_variables(grads):\n",
    "    update_variable(W1, grads[0])\n",
    "    update_variable(B1, grads[1])\n",
    "    update_variable(W2, grads[2])\n",
    "    update_variable(B2, grads[3])\n",
    "    update_variable(W3, grads[4])\n",
    "    update_variable(B3, grads[5])\n",
    "    \n",
    "def train(epoch):\n",
    "    for step, (x, y) in enumerate(train_dataset):\n",
    "        x = tf.reshape(x, [-1, 28 * 28])\n",
    "        y = tf.one_hot(y, depth=10)\n",
    "        with tf.GradientTape() as tape:\n",
    "            # yp = x @ W1 + B1\n",
    "            # yp = tf.nn.relu(yp)\n",
    "            # yp = yp @ W2 + B2\n",
    "            # yp = tf.nn.relu(yp)\n",
    "            # yp = yp @ W3 + B3\n",
    "            yp = model(x)\n",
    "\n",
    "            # loss\n",
    "            loss = tf.square(yp - y)\n",
    "            # print(loss.shape)(200, 10)\n",
    "            loss = tf.reduce_mean(loss)\n",
    "\n",
    "        grads = tape.gradient(loss, [W1, B1, W2, B2, W3, B3])\n",
    "        update_variables(grads)\n",
    "        loss = float(loss)\n",
    "        # if step % 100 == 0:\n",
    "        #     print(f'epoch: {epoch}, step: {step}, loss: {float(loss)}.')\n",
    "    return loss\n",
    "\n",
    "def test(epoch, loss):\n",
    "    total_correct, total_num = 0, 0\n",
    "    for step, (x, y) in enumerate(test_dataset):\n",
    "        x = tf.reshape(x, [-1, 28 * 28])\n",
    "        out = model(x)\n",
    "        pred = tf.argmax(out, axis=1)\n",
    "        pred = tf.cast(pred, dtype=tf.uint8)\n",
    "        correct = tf.cast(tf.equal(pred, y), dtype=tf.uint8)\n",
    "        correct = tf.reduce_sum(correct)\n",
    "        \n",
    "        total_correct += int(correct)\n",
    "        total_num += x.shape[0]\n",
    "    \n",
    "    acc = total_correct / total_num\n",
    "    print(f'epoch: {epoch}, loss: {loss}, acc: {acc}.')\n",
    "\n",
    "def train_epoch(epoch_num):\n",
    "    for epoch in range(5):\n",
    "        loss = train(epoch)\n",
    "        test(epoch, loss)"
   ]
  },
  {
   "cell_type": "code",
   "execution_count": 57,
   "id": "4fabfe55-46e7-4fd5-82d6-687f80bff058",
   "metadata": {},
   "outputs": [
    {
     "name": "stdout",
     "output_type": "stream",
     "text": [
      "epoch: 0, loss: 0.0016941054491326213, acc: 0.9598.\n",
      "epoch: 1, loss: 0.0016858691815286875, acc: 0.9599.\n",
      "epoch: 2, loss: 0.0016782759921625257, acc: 0.9599.\n",
      "epoch: 3, loss: 0.0016716597601771355, acc: 0.96.\n",
      "epoch: 4, loss: 0.0016648503951728344, acc: 0.96.\n"
     ]
    }
   ],
   "source": [
    "lr = 1e-1\n",
    "train_epoch(5)"
   ]
  },
  {
   "cell_type": "code",
   "execution_count": 56,
   "id": "304550c0-61b5-46ae-b14b-f748b3b3e891",
   "metadata": {},
   "outputs": [
    {
     "name": "stdout",
     "output_type": "stream",
     "text": [
      "epoch: 0, loss: 0.001736431964673102, acc: 0.9582.\n",
      "epoch: 1, loss: 0.0017281122272834182, acc: 0.9587.\n",
      "epoch: 2, loss: 0.0017191499937325716, acc: 0.9592.\n",
      "epoch: 3, loss: 0.001710074138827622, acc: 0.9594.\n",
      "epoch: 4, loss: 0.0017022374086081982, acc: 0.9597.\n"
     ]
    }
   ],
   "source": [
    "lr = 1e-1\n",
    "train_epoch(5)"
   ]
  },
  {
   "cell_type": "code",
   "execution_count": 49,
   "id": "ae0ce583-9c85-468c-868a-e17dcf466039",
   "metadata": {},
   "outputs": [
    {
     "data": {
      "text/plain": [
       "<tf.Tensor: shape=(2, 10), dtype=float32, numpy=\n",
       "array([[6.3098872e-05, 1.7306203e-08, 7.2310380e-05, 1.8900177e-04,\n",
       "        7.8045503e-07, 2.9244162e-05, 3.8498063e-09, 9.9942529e-01,\n",
       "        5.2804476e-06, 2.1501494e-04],\n",
       "       [2.3252047e-03, 3.0753104e-06, 9.7294647e-01, 7.0973532e-03,\n",
       "        1.0673008e-09, 1.4866168e-02, 1.1816265e-03, 5.6261067e-09,\n",
       "        1.5802127e-03, 1.4692765e-09]], dtype=float32)>"
      ]
     },
     "execution_count": 49,
     "metadata": {},
     "output_type": "execute_result"
    }
   ],
   "source": [
    "model(tf.reshape(x_test[:2], (-1, 28*28)))"
   ]
  },
  {
   "cell_type": "code",
   "execution_count": 63,
   "id": "6cf7725c-827d-4b21-b4a8-30bd949cb965",
   "metadata": {},
   "outputs": [],
   "source": [
    "out = model(tf.reshape(x_test[:2], (-1, 28*28)))"
   ]
  },
  {
   "cell_type": "code",
   "execution_count": 64,
   "id": "76299c45-b5f3-433e-8213-4f6710d95158",
   "metadata": {},
   "outputs": [],
   "source": [
    "out = tf.argmax(out, axis=1)"
   ]
  },
  {
   "cell_type": "code",
   "execution_count": 65,
   "id": "54563cba-f5b4-4466-9857-4067d5d0c557",
   "metadata": {},
   "outputs": [
    {
     "data": {
      "text/plain": [
       "<tf.Tensor: shape=(2,), dtype=int64, numpy=array([7, 2], dtype=int64)>"
      ]
     },
     "execution_count": 65,
     "metadata": {},
     "output_type": "execute_result"
    }
   ],
   "source": [
    "out"
   ]
  },
  {
   "cell_type": "code",
   "execution_count": null,
   "id": "37ac7662-68dd-42d3-99c7-f1fbb0ac3523",
   "metadata": {},
   "outputs": [],
   "source": []
  }
 ],
 "metadata": {
  "kernelspec": {
   "display_name": "Python 3 (ipykernel)",
   "language": "python",
   "name": "python3"
  },
  "language_info": {
   "codemirror_mode": {
    "name": "ipython",
    "version": 3
   },
   "file_extension": ".py",
   "mimetype": "text/x-python",
   "name": "python",
   "nbconvert_exporter": "python",
   "pygments_lexer": "ipython3",
   "version": "3.9.9"
  }
 },
 "nbformat": 4,
 "nbformat_minor": 5
}
