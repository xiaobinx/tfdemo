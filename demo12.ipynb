{
 "cells": [
  {
   "cell_type": "code",
   "execution_count": 1,
   "id": "38fc9467-a77e-4b7f-a171-82913f353132",
   "metadata": {},
   "outputs": [],
   "source": [
    "import os\n",
    "\n",
    "import tensorflow as tf\n",
    "from tensorflow import keras\n",
    "from tensorflow.keras import datasets, layers, optimizers\n",
    "\n",
    "os.environ[\"TF_CPP_MIN_LOG_LEVEL\"] = \"2\""
   ]
  },
  {
   "cell_type": "markdown",
   "id": "aeaf75a5-9b87-44aa-9b76-c8c08a5ac000",
   "metadata": {},
   "source": [
    "## 14.1 keras.datasets"
   ]
  },
  {
   "cell_type": "code",
   "execution_count": 2,
   "id": "940a528e-7c9c-44a3-9f30-2d2dfb02449d",
   "metadata": {},
   "outputs": [],
   "source": [
    "(train_x, train_y), (pred_x, pred_y) = datasets.cifar10.load_data()"
   ]
  },
  {
   "cell_type": "code",
   "execution_count": 3,
   "id": "d39cd3d4-ad50-4b3b-ab84-431366a8624b",
   "metadata": {},
   "outputs": [],
   "source": [
    "train_x = tf.convert_to_tensor(train_x)\n",
    "train_y = tf.convert_to_tensor(train_y)\n",
    "pred_x = tf.convert_to_tensor(pred_x)\n",
    "pred_y = tf.convert_to_tensor(pred_y)"
   ]
  },
  {
   "cell_type": "code",
   "execution_count": 4,
   "id": "6f263629-b9b0-483f-8b13-383a6c3b4284",
   "metadata": {},
   "outputs": [
    {
     "data": {
      "text/plain": [
       "(TensorShape([50000, 32, 32, 3]),\n",
       " TensorShape([50000, 1]),\n",
       " TensorShape([10000, 32, 32, 3]),\n",
       " TensorShape([10000, 1]))"
      ]
     },
     "execution_count": 4,
     "metadata": {},
     "output_type": "execute_result"
    }
   ],
   "source": [
    "train_x.shape, train_y.shape, pred_x.shape, pred_y.shape"
   ]
  },
  {
   "cell_type": "code",
   "execution_count": 5,
   "id": "d9c600fc-c671-40b9-9749-8046a2d2b520",
   "metadata": {},
   "outputs": [],
   "source": [
    "train_x = tf.reshape(train_x, [-1,32*32*3]) # 打平图片\n",
    "pred_x = tf.reshape(pred_x, [-1,32*32*3])"
   ]
  },
  {
   "cell_type": "code",
   "execution_count": 6,
   "id": "b6295666-bf64-4317-8633-4e87fdc32fbc",
   "metadata": {},
   "outputs": [],
   "source": [
    "train_y = tf.one_hot(train_y, depth=10) # one_hot编码\n",
    "pred_y = tf.one_hot(pred_y, depth=10)"
   ]
  },
  {
   "cell_type": "code",
   "execution_count": 7,
   "id": "6b4d94d0-8812-43c0-9448-f302c9dc3cb0",
   "metadata": {},
   "outputs": [],
   "source": [
    "train_y = tf.squeeze(train_y) # 挤压多余的维度\n",
    "pred_y = tf.squeeze(pred_y)"
   ]
  },
  {
   "cell_type": "code",
   "execution_count": 8,
   "id": "61967873-3601-4cb6-b15a-db92615ce9a0",
   "metadata": {},
   "outputs": [
    {
     "data": {
      "text/plain": [
       "(TensorShape([50000, 3072]),\n",
       " TensorShape([50000, 10]),\n",
       " TensorShape([10000, 3072]),\n",
       " TensorShape([10000, 10]))"
      ]
     },
     "execution_count": 8,
     "metadata": {},
     "output_type": "execute_result"
    }
   ],
   "source": [
    "train_x.shape, train_y.shape, pred_x.shape, pred_y.shape"
   ]
  },
  {
   "cell_type": "code",
   "execution_count": 18,
   "id": "40efeccb-d72c-4ebf-b344-c00649aa291d",
   "metadata": {},
   "outputs": [],
   "source": [
    "db = tf.data.Dataset.from_tensor_slices((train_x, train_y))"
   ]
  },
  {
   "cell_type": "code",
   "execution_count": 19,
   "id": "c17352e3-a22d-44f4-9509-f424856142d4",
   "metadata": {},
   "outputs": [
    {
     "data": {
      "text/plain": [
       "<ShuffleDataset shapes: ((3072,), (10,)), types: (tf.uint8, tf.float32)>"
      ]
     },
     "execution_count": 19,
     "metadata": {},
     "output_type": "execute_result"
    }
   ],
   "source": [
    "db.shuffle(10000) # 打散 避免模型记忆样本的顺序"
   ]
  },
  {
   "cell_type": "code",
   "execution_count": 20,
   "id": "24ea5e49-1927-48c1-b93e-9c13f8dde42d",
   "metadata": {},
   "outputs": [
    {
     "data": {
      "text/plain": [
       "<BatchDataset shapes: ((None, 3072), (None, 10)), types: (tf.uint8, tf.float32)>"
      ]
     },
     "execution_count": 20,
     "metadata": {},
     "output_type": "execute_result"
    }
   ],
   "source": [
    "db.batch(10000) # 设置batch"
   ]
  },
  {
   "cell_type": "code",
   "execution_count": 21,
   "id": "92da122e-d645-42f7-ac1a-760db7d32b9c",
   "metadata": {},
   "outputs": [
    {
     "data": {
      "text/plain": [
       "<RepeatDataset shapes: ((3072,), (10,)), types: (tf.uint8, tf.float32)>"
      ]
     },
     "execution_count": 21,
     "metadata": {},
     "output_type": "execute_result"
    }
   ],
   "source": [
    "db.repeat(10) # 设置重复迭代次数 没有参数表示永远重复下去"
   ]
  },
  {
   "cell_type": "code",
   "execution_count": null,
   "id": "3ac49f8e-b574-485a-9fe7-8ff9db4930dd",
   "metadata": {},
   "outputs": [],
   "source": []
  }
 ],
 "metadata": {
  "kernelspec": {
   "display_name": "Python 3 (ipykernel)",
   "language": "python",
   "name": "python3"
  },
  "language_info": {
   "codemirror_mode": {
    "name": "ipython",
    "version": 3
   },
   "file_extension": ".py",
   "mimetype": "text/x-python",
   "name": "python",
   "nbconvert_exporter": "python",
   "pygments_lexer": "ipython3",
   "version": "3.9.9"
  }
 },
 "nbformat": 4,
 "nbformat_minor": 5
}
