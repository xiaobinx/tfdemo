{
 "cells": [
  {
   "cell_type": "code",
   "execution_count": 1,
   "id": "6f715398-e088-471f-8136-fe4c2f44f930",
   "metadata": {},
   "outputs": [],
   "source": [
    "import os\n",
    "\n",
    "import tensorflow as tf\n",
    "from tensorflow import keras\n",
    "from tensorflow.keras import datasets, layers, optimizers\n",
    "\n",
    "os.environ[\"TF_CPP_MIN_LOG_LEVEL\"] = \"2\""
   ]
  },
  {
   "cell_type": "markdown",
   "id": "e86ad696-074e-40f8-a255-28d745b49633",
   "metadata": {
    "tags": []
   },
   "source": [
    "## 16.1 sigmoid\n",
    "将输入映射到0~1的范围"
   ]
  },
  {
   "cell_type": "code",
   "execution_count": 3,
   "id": "a484a30c-527e-4d0f-a51b-e975fffb282b",
   "metadata": {},
   "outputs": [
    {
     "data": {
      "text/plain": [
       "<tf.Tensor: shape=(10,), dtype=float32, numpy=\n",
       "array([-6.       , -4.6666665, -3.3333333, -2.       , -0.6666665,\n",
       "        0.666667 ,  2.       ,  3.333334 ,  4.666667 ,  6.       ],\n",
       "      dtype=float32)>"
      ]
     },
     "execution_count": 3,
     "metadata": {},
     "output_type": "execute_result"
    }
   ],
   "source": [
    "a = tf.linspace(-6., 6, 10)\n",
    "a"
   ]
  },
  {
   "cell_type": "code",
   "execution_count": 4,
   "id": "44b9cf41-fd6f-48e9-921b-55ceb73b5be8",
   "metadata": {},
   "outputs": [
    {
     "data": {
      "text/plain": [
       "<tf.Tensor: shape=(10,), dtype=float32, numpy=\n",
       "array([0.00247262, 0.00931596, 0.0344452 , 0.11920292, 0.33924368,\n",
       "       0.6607564 , 0.880797  , 0.96555483, 0.99068403, 0.9975274 ],\n",
       "      dtype=float32)>"
      ]
     },
     "execution_count": 4,
     "metadata": {},
     "output_type": "execute_result"
    }
   ],
   "source": [
    "tf.sigmoid(a)"
   ]
  },
  {
   "cell_type": "code",
   "execution_count": null,
   "id": "637057f9-548b-4f4b-95d4-9dda5aeb4c37",
   "metadata": {},
   "outputs": [],
   "source": [
    "## 16.2 tf.nn.softmax\n",
    "多分类输出和为1"
   ]
  },
  {
   "cell_type": "code",
   "execution_count": 5,
   "id": "5aa0bd69-1601-46e3-a597-5f394b238151",
   "metadata": {},
   "outputs": [
    {
     "data": {
      "text/plain": [
       "<tf.Tensor: shape=(10,), dtype=float32, numpy=\n",
       "array([4.5246225e-06, 1.7164926e-05, 6.5118002e-05, 2.4703599e-04,\n",
       "       9.3717274e-04, 3.5553225e-03, 1.3487710e-02, 5.1167920e-02,\n",
       "       1.9411406e-01, 7.3640394e-01], dtype=float32)>"
      ]
     },
     "execution_count": 5,
     "metadata": {},
     "output_type": "execute_result"
    }
   ],
   "source": [
    "a = tf.linspace(-6., 6, 10)\n",
    "tf.nn.softmax(a)"
   ]
  },
  {
   "cell_type": "code",
   "execution_count": 9,
   "id": "095965a0-f8ed-4d2b-9452-40cdecb5f7e1",
   "metadata": {},
   "outputs": [
    {
     "data": {
      "text/plain": [
       "<tf.Tensor: shape=(3, 3), dtype=float32, numpy=\n",
       "array([[ 1.3327432 ,  1.1839552 , -1.8476968 ],\n",
       "       [-0.62549925, -1.9270425 ,  1.2810931 ],\n",
       "       [ 0.57245207, -0.5362668 , -1.2591429 ]], dtype=float32)>"
      ]
     },
     "execution_count": 9,
     "metadata": {},
     "output_type": "execute_result"
    }
   ],
   "source": [
    "a = tf.random.uniform([3, 3], minval=-2, maxval=2)\n",
    "a"
   ]
  },
  {
   "cell_type": "code",
   "execution_count": 23,
   "id": "f92f6f2d-ff1d-4743-bac7-fe8c9c99506d",
   "metadata": {},
   "outputs": [
    {
     "data": {
      "text/plain": [
       "<tf.Tensor: shape=(3, 3), dtype=float32, numpy=\n",
       "array([[0.52539796, 0.45276263, 0.02183941],\n",
       "       [0.12496521, 0.03400448, 0.8410303 ],\n",
       "       [0.67107815, 0.22144334, 0.10747849]], dtype=float32)>"
      ]
     },
     "execution_count": 23,
     "metadata": {},
     "output_type": "execute_result"
    }
   ],
   "source": [
    "prob = tf.nn.softmax(a)\n",
    "prob"
   ]
  },
  {
   "cell_type": "code",
   "execution_count": 26,
   "id": "178326da-7e2c-45ab-9d3e-99a54a595d7a",
   "metadata": {},
   "outputs": [
    {
     "data": {
      "text/plain": [
       "<tf.Tensor: shape=(3,), dtype=float32, numpy=array([1., 1., 1.], dtype=float32)>"
      ]
     },
     "execution_count": 26,
     "metadata": {},
     "output_type": "execute_result"
    }
   ],
   "source": [
    "tf.reduce_sum(prob, axis=1)"
   ]
  },
  {
   "cell_type": "markdown",
   "id": "2ac900cb-1b7a-421b-b849-2dc622ddf8a4",
   "metadata": {},
   "source": [
    "## 16.2 tf.nn.tanh\n",
    "将输入映射到-1~1的范围"
   ]
  },
  {
   "cell_type": "code",
   "execution_count": 27,
   "id": "a6dc76af-7753-410b-8c3f-b4b6de879295",
   "metadata": {},
   "outputs": [
    {
     "data": {
      "text/plain": [
       "<tf.Tensor: shape=(10,), dtype=float32, numpy=\n",
       "array([-6.       , -4.6666665, -3.3333333, -2.       , -0.6666665,\n",
       "        0.666667 ,  2.       ,  3.333334 ,  4.666667 ,  6.       ],\n",
       "      dtype=float32)>"
      ]
     },
     "execution_count": 27,
     "metadata": {},
     "output_type": "execute_result"
    }
   ],
   "source": [
    "a = tf.linspace(-6., 6, 10)\n",
    "a"
   ]
  },
  {
   "cell_type": "code",
   "execution_count": 28,
   "id": "42d77005-dbdd-4c08-ad75-6ff90d11f0a5",
   "metadata": {},
   "outputs": [
    {
     "data": {
      "text/plain": [
       "<tf.Tensor: shape=(10,), dtype=float32, numpy=\n",
       "array([-0.9999876 , -0.99982315, -0.99745804, -0.9640276 , -0.58278286,\n",
       "        0.58278316,  0.9640276 ,  0.99745804,  0.99982315,  0.9999876 ],\n",
       "      dtype=float32)>"
      ]
     },
     "execution_count": 28,
     "metadata": {},
     "output_type": "execute_result"
    }
   ],
   "source": [
    "tf.tanh(a)"
   ]
  },
  {
   "cell_type": "code",
   "execution_count": null,
   "id": "6fb85dc7-8d71-4199-82e9-50b8031670ba",
   "metadata": {},
   "outputs": [],
   "source": []
  }
 ],
 "metadata": {
  "kernelspec": {
   "display_name": "Python 3 (ipykernel)",
   "language": "python",
   "name": "python3"
  },
  "language_info": {
   "codemirror_mode": {
    "name": "ipython",
    "version": 3
   },
   "file_extension": ".py",
   "mimetype": "text/x-python",
   "name": "python",
   "nbconvert_exporter": "python",
   "pygments_lexer": "ipython3",
   "version": "3.9.9"
  }
 },
 "nbformat": 4,
 "nbformat_minor": 5
}
