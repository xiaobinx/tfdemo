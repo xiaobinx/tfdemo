{
 "cells": [
  {
   "cell_type": "code",
   "execution_count": 1,
   "id": "44ae4f10-ed03-4281-a7b3-59c1639bc9df",
   "metadata": {},
   "outputs": [],
   "source": [
    "import os\n",
    "\n",
    "import tensorflow as tf\n",
    "from tensorflow import keras\n",
    "from tensorflow.keras import datasets, layers, optimizers\n",
    "\n",
    "os.environ[\"TF_CPP_MIN_LOG_LEVEL\"] = \"2\""
   ]
  },
  {
   "cell_type": "markdown",
   "id": "75a4b29e-fcaf-4b66-b0a7-aaf82163520d",
   "metadata": {},
   "source": [
    "## 9.1 tf.sort/tf.argsort\n",
    "\n",
    "排序/排序返回下标"
   ]
  },
  {
   "cell_type": "code",
   "execution_count": 5,
   "id": "968e85f8-7b1a-45b5-89d4-beb9d923588b",
   "metadata": {},
   "outputs": [
    {
     "data": {
      "text/plain": [
       "<tf.Tensor: shape=(5,), dtype=int32, numpy=array([0, 3, 4, 1, 2])>"
      ]
     },
     "execution_count": 5,
     "metadata": {},
     "output_type": "execute_result"
    }
   ],
   "source": [
    "a = tf.random.shuffle(tf.range(5))\n",
    "a"
   ]
  },
  {
   "cell_type": "code",
   "execution_count": 8,
   "id": "8361f2fc-5810-4d5f-9293-3ec75da6f79f",
   "metadata": {},
   "outputs": [
    {
     "data": {
      "text/plain": [
       "<tf.Tensor: shape=(5,), dtype=int32, numpy=array([4, 3, 2, 1, 0])>"
      ]
     },
     "execution_count": 8,
     "metadata": {},
     "output_type": "execute_result"
    }
   ],
   "source": [
    "s = tf.sort(a, direction='DESCENDING') # 排序\n",
    "s"
   ]
  },
  {
   "cell_type": "code",
   "execution_count": 13,
   "id": "1e4d38ed-049c-4d7e-8755-1e0b04df6905",
   "metadata": {},
   "outputs": [
    {
     "data": {
      "text/plain": [
       "<tf.Tensor: shape=(5,), dtype=int32, numpy=array([2, 1, 4, 3, 0])>"
      ]
     },
     "execution_count": 13,
     "metadata": {},
     "output_type": "execute_result"
    }
   ],
   "source": [
    "idx = tf.argsort(a, direction='DESCENDING') # 排序后返回，源Tensor顺序下标\n",
    "idx"
   ]
  },
  {
   "cell_type": "code",
   "execution_count": 14,
   "id": "4259f44f-9536-4562-9455-b595bb7d2580",
   "metadata": {},
   "outputs": [
    {
     "data": {
      "text/plain": [
       "<tf.Tensor: shape=(5,), dtype=int32, numpy=array([4, 3, 2, 1, 0])>"
      ]
     },
     "execution_count": 14,
     "metadata": {},
     "output_type": "execute_result"
    }
   ],
   "source": [
    "tf.gather(a, idx) # 使用gather可以得到排序后的s"
   ]
  },
  {
   "cell_type": "code",
   "execution_count": 24,
   "id": "754ef220-4a09-41a5-8e04-5eafa463b069",
   "metadata": {},
   "outputs": [
    {
     "data": {
      "text/plain": [
       "<tf.Tensor: shape=(3, 3), dtype=int32, numpy=\n",
       "array([[7, 1, 0],\n",
       "       [6, 3, 6],\n",
       "       [8, 2, 7]])>"
      ]
     },
     "execution_count": 24,
     "metadata": {},
     "output_type": "execute_result"
    }
   ],
   "source": [
    "a = tf.random.uniform([3, 3], maxval=10, dtype=tf.int32)\n",
    "a"
   ]
  },
  {
   "cell_type": "code",
   "execution_count": 26,
   "id": "eb20f4b4-3f9b-47ae-94ae-65f07d041f75",
   "metadata": {},
   "outputs": [
    {
     "data": {
      "text/plain": [
       "<tf.Tensor: shape=(3, 3), dtype=int32, numpy=\n",
       "array([[0, 1, 7],\n",
       "       [3, 6, 6],\n",
       "       [2, 7, 8]])>"
      ]
     },
     "execution_count": 26,
     "metadata": {},
     "output_type": "execute_result"
    }
   ],
   "source": [
    "tf.sort(a) # 默认对最后一个维度-1排序"
   ]
  },
  {
   "cell_type": "code",
   "execution_count": 29,
   "id": "c2118c37-4e8a-45ba-9902-ad4d1f7ebca7",
   "metadata": {},
   "outputs": [
    {
     "data": {
      "text/plain": [
       "<tf.Tensor: shape=(3, 3), dtype=int32, numpy=\n",
       "array([[6, 1, 0],\n",
       "       [7, 2, 6],\n",
       "       [8, 3, 7]])>"
      ]
     },
     "execution_count": 29,
     "metadata": {},
     "output_type": "execute_result"
    }
   ],
   "source": [
    "tf.sort(a, axis=0)"
   ]
  },
  {
   "cell_type": "code",
   "execution_count": 30,
   "id": "393a4a67-6dd8-4dda-8c91-ba0886abad25",
   "metadata": {},
   "outputs": [
    {
     "data": {
      "text/plain": [
       "<tf.Tensor: shape=(3, 3), dtype=int32, numpy=\n",
       "array([[2, 1, 0],\n",
       "       [1, 0, 2],\n",
       "       [1, 2, 0]])>"
      ]
     },
     "execution_count": 30,
     "metadata": {},
     "output_type": "execute_result"
    }
   ],
   "source": [
    "tf.argsort(a)"
   ]
  },
  {
   "cell_type": "markdown",
   "id": "08021858-80c2-4bbd-aa91-a64e98f522d9",
   "metadata": {},
   "source": [
    "## 10.2 top_k"
   ]
  },
  {
   "cell_type": "code",
   "execution_count": 32,
   "id": "da17263a-ef32-4912-a351-d6edcd5c6996",
   "metadata": {},
   "outputs": [
    {
     "data": {
      "text/plain": [
       "<tf.Tensor: shape=(3, 3), dtype=int32, numpy=\n",
       "array([[8, 6, 2],\n",
       "       [9, 3, 2],\n",
       "       [0, 8, 9]])>"
      ]
     },
     "execution_count": 32,
     "metadata": {},
     "output_type": "execute_result"
    }
   ],
   "source": [
    "a = tf.random.uniform([3, 3], maxval=10, dtype=tf.int32)\n",
    "a"
   ]
  },
  {
   "cell_type": "code",
   "execution_count": 33,
   "id": "e3e258b7-93c4-4a4a-b6a1-e065fb1e1f8f",
   "metadata": {},
   "outputs": [],
   "source": [
    "res = tf.math.top_k(a, 2)"
   ]
  },
  {
   "cell_type": "code",
   "execution_count": 35,
   "id": "b6c4cefa-b4eb-4988-8a4a-7674d39f8e0e",
   "metadata": {},
   "outputs": [
    {
     "data": {
      "text/plain": [
       "(<tf.Tensor: shape=(3, 2), dtype=int32, numpy=\n",
       " array([[0, 1],\n",
       "        [0, 1],\n",
       "        [2, 1]])>,\n",
       " <tf.Tensor: shape=(3, 2), dtype=int32, numpy=\n",
       " array([[8, 6],\n",
       "        [9, 3],\n",
       "        [9, 8]])>)"
      ]
     },
     "execution_count": 35,
     "metadata": {},
     "output_type": "execute_result"
    }
   ],
   "source": [
    "res.indices, res.values\n",
    "# indices 为top_k的下标\n",
    "# values 为具体的前k个最大值"
   ]
  },
  {
   "cell_type": "code",
   "execution_count": 36,
   "id": "c37568f2-b526-4e78-bae4-8327dbb03be2",
   "metadata": {},
   "outputs": [],
   "source": [
    "prob = tf.constant([\n",
    "    [0.1, 0.2, 0.7],\n",
    "    [0.2, 0.7, 0.1],\n",
    "])\n",
    "target = tf. constant([2, 0])"
   ]
  },
  {
   "cell_type": "code",
   "execution_count": 45,
   "id": "639df430-1383-40ea-97ce-b97770b36262",
   "metadata": {},
   "outputs": [],
   "source": [
    "def accurac(output: tf.Tensor, target: tf.Tensor, topk=(1,)):\n",
    "    maxk = max(topk)\n",
    "    batch_size = target.shape[0]\n",
    "    \n",
    "    pred = tf.math.top_k(output, maxk).indices\n",
    "    pred = tf. transpose(pred, perm=[1, 0])\n",
    "    target_ = tf.broadcast_to(target, pred.shape)\n",
    "    correct = tf.equal(pred, target_)\n",
    "    \n",
    "    res = []\n",
    "    for k in topk:\n",
    "        correct_k = tf.cast(tf.reshape( correct[:k], [-1]), dtype=tf.float32)\n",
    "        correct_k = tf.reduce_sum(correct_k)\n",
    "        acc = float(correct_k / batch_size)\n",
    "        res.append(acc)\n",
    "    \n",
    "    return res"
   ]
  },
  {
   "cell_type": "code",
   "execution_count": 57,
   "id": "00626888-f140-43af-af87-49dd69be39ac",
   "metadata": {},
   "outputs": [
    {
     "data": {
      "text/plain": [
       "[0.5]"
      ]
     },
     "execution_count": 57,
     "metadata": {},
     "output_type": "execute_result"
    }
   ],
   "source": [
    "accurac(prob, target, topk=[1,])"
   ]
  },
  {
   "cell_type": "code",
   "execution_count": null,
   "id": "8819dafa-0a57-4c6a-ac80-6b99b8127967",
   "metadata": {},
   "outputs": [],
   "source": []
  }
 ],
 "metadata": {
  "kernelspec": {
   "display_name": "Python 3 (ipykernel)",
   "language": "python",
   "name": "python3"
  },
  "language_info": {
   "codemirror_mode": {
    "name": "ipython",
    "version": 3
   },
   "file_extension": ".py",
   "mimetype": "text/x-python",
   "name": "python",
   "nbconvert_exporter": "python",
   "pygments_lexer": "ipython3",
   "version": "3.9.9"
  }
 },
 "nbformat": 4,
 "nbformat_minor": 5
}
