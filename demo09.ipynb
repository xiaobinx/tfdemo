{
 "cells": [
  {
   "cell_type": "code",
   "execution_count": 2,
   "id": "cfc69424-7ea0-466f-a856-2a09901c3d0a",
   "metadata": {},
   "outputs": [],
   "source": [
    "import os\n",
    "\n",
    "import tensorflow as tf\n",
    "from tensorflow import keras\n",
    "from tensorflow.keras import datasets, layers, optimizers\n",
    "\n",
    "os.environ[\"TF_CPP_MIN_LOG_LEVEL\"] = \"2\""
   ]
  },
  {
   "cell_type": "markdown",
   "id": "7b1c0a55-8011-49d5-a80c-40d5686b1b60",
   "metadata": {},
   "source": [
    "## 11.1 tf.pad"
   ]
  },
  {
   "cell_type": "code",
   "execution_count": 4,
   "id": "b4ea3ba8-2ba6-4b0a-8fae-e6fcb7d23d55",
   "metadata": {},
   "outputs": [
    {
     "data": {
      "text/plain": [
       "<tf.Tensor: shape=(3, 3), dtype=int32, numpy=\n",
       "array([[4, 4, 4],\n",
       "       [9, 4, 8],\n",
       "       [0, 4, 3]])>"
      ]
     },
     "execution_count": 4,
     "metadata": {},
     "output_type": "execute_result"
    }
   ],
   "source": [
    "a = tf.random.uniform([3, 3], maxval=10, dtype=tf.int32)\n",
    "a"
   ]
  },
  {
   "cell_type": "code",
   "execution_count": 9,
   "id": "6b1bcda7-de60-41b8-8da6-7909330960d9",
   "metadata": {},
   "outputs": [
    {
     "data": {
      "text/plain": [
       "<tf.Tensor: shape=(5, 5), dtype=int32, numpy=\n",
       "array([[0, 0, 0, 0, 0],\n",
       "       [0, 4, 4, 4, 0],\n",
       "       [0, 9, 4, 8, 0],\n",
       "       [0, 0, 4, 3, 0],\n",
       "       [0, 0, 0, 0, 0]])>"
      ]
     },
     "execution_count": 9,
     "metadata": {},
     "output_type": "execute_result"
    }
   ],
   "source": [
    "tf.pad(a, [[1, 1], [1, 1]]) # 行 列左右各padding 1行"
   ]
  },
  {
   "cell_type": "code",
   "execution_count": 10,
   "id": "2defd3ab-74f1-4f63-90fd-c960a38dfd82",
   "metadata": {},
   "outputs": [],
   "source": [
    "a = tf.random.normal([4, 28, 28, 3]) # 行 列左右各padding 2行"
   ]
  },
  {
   "cell_type": "code",
   "execution_count": 13,
   "id": "268e3c40-4cf7-4384-8719-94899b24f56d",
   "metadata": {},
   "outputs": [
    {
     "data": {
      "text/plain": [
       "TensorShape([4, 32, 32, 3])"
      ]
     },
     "execution_count": 13,
     "metadata": {},
     "output_type": "execute_result"
    }
   ],
   "source": [
    "tf.pad(a, [[0, 0], [2, 2], [2, 2], [0, 0]]).shape"
   ]
  },
  {
   "cell_type": "markdown",
   "id": "3d320b9f-ba57-4b44-8277-5e84cd153f17",
   "metadata": {},
   "source": [
    "## tf.tile"
   ]
  },
  {
   "cell_type": "code",
   "execution_count": 14,
   "id": "09e23ca5-465e-4a8e-8721-55d5c3be25bb",
   "metadata": {},
   "outputs": [
    {
     "data": {
      "text/plain": [
       "<tf.Tensor: shape=(3, 3), dtype=int32, numpy=\n",
       "array([[9, 3, 1],\n",
       "       [8, 5, 1],\n",
       "       [6, 4, 1]])>"
      ]
     },
     "execution_count": 14,
     "metadata": {},
     "output_type": "execute_result"
    }
   ],
   "source": [
    "a = tf.random.uniform([3, 3], maxval=10, dtype=tf.int32)\n",
    "a"
   ]
  },
  {
   "cell_type": "code",
   "execution_count": 15,
   "id": "95fb34fb-dc71-4921-8edd-c45985cf362a",
   "metadata": {},
   "outputs": [
    {
     "data": {
      "text/plain": [
       "<tf.Tensor: shape=(3, 6), dtype=int32, numpy=\n",
       "array([[9, 3, 1, 9, 3, 1],\n",
       "       [8, 5, 1, 8, 5, 1],\n",
       "       [6, 4, 1, 6, 4, 1]])>"
      ]
     },
     "execution_count": 15,
     "metadata": {},
     "output_type": "execute_result"
    }
   ],
   "source": [
    "tf.tile(a, [1, 2])  # 第一个维度为原来的1倍，第二个维度为原来的2倍"
   ]
  },
  {
   "cell_type": "code",
   "execution_count": 16,
   "id": "2259af9e-3243-49ea-9507-e7c04d4c28ed",
   "metadata": {},
   "outputs": [
    {
     "data": {
      "text/plain": [
       "<tf.Tensor: shape=(6, 6), dtype=int32, numpy=\n",
       "array([[9, 3, 1, 9, 3, 1],\n",
       "       [8, 5, 1, 8, 5, 1],\n",
       "       [6, 4, 1, 6, 4, 1],\n",
       "       [9, 3, 1, 9, 3, 1],\n",
       "       [8, 5, 1, 8, 5, 1],\n",
       "       [6, 4, 1, 6, 4, 1]])>"
      ]
     },
     "execution_count": 16,
     "metadata": {},
     "output_type": "execute_result"
    }
   ],
   "source": [
    "tf.tile(a, [2, 2]) # 先复制小维度"
   ]
  },
  {
   "cell_type": "code",
   "execution_count": null,
   "id": "ec166151-de88-4121-88ec-8801a8251012",
   "metadata": {},
   "outputs": [],
   "source": []
  }
 ],
 "metadata": {
  "kernelspec": {
   "display_name": "Python 3 (ipykernel)",
   "language": "python",
   "name": "python3"
  },
  "language_info": {
   "codemirror_mode": {
    "name": "ipython",
    "version": 3
   },
   "file_extension": ".py",
   "mimetype": "text/x-python",
   "name": "python",
   "nbconvert_exporter": "python",
   "pygments_lexer": "ipython3",
   "version": "3.9.9"
  }
 },
 "nbformat": 4,
 "nbformat_minor": 5
}
